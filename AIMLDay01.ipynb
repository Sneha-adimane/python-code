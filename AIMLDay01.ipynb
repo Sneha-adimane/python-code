{
 "cells": [
  {
   "cell_type": "code",
   "execution_count": 1,
   "id": "a80db32b-c389-451c-bc0c-11fbbbd05b86",
   "metadata": {},
   "outputs": [
    {
     "name": "stdout",
     "output_type": "stream",
     "text": [
      "hello\n"
     ]
    }
   ],
   "source": [
    "print(\"hello\")"
   ]
  },
  {
   "cell_type": "code",
   "execution_count": 4,
   "id": "a2b9e7f2-7d22-409a-8428-96effdd6cafd",
   "metadata": {},
   "outputs": [
    {
     "name": "stdout",
     "output_type": "stream",
     "text": [
      "<class 'int'>\n",
      "<class 'float'>\n",
      "<class 'str'>\n"
     ]
    }
   ],
   "source": [
    "a=5\n",
    "b=2.4\n",
    "c='a'\n",
    "print(type(a))\n",
    "print(type(b))\n",
    "print(type(c))"
   ]
  },
  {
   "cell_type": "markdown",
   "id": "82797af5-17ad-4587-af26-1e32a7412b47",
   "metadata": {},
   "source": [
    "a=5\n",
    "print(a)\n",
    "print(type(a))\n",
    "\n",
    "a=5.5\n",
    "print(a)\n",
    "print(type(a))\n",
    "\n",
    "a='g'\n",
    "print(a)\n",
    "print(type(a))\n",
    "\n",
    "a=[4,5.6]\n",
    "print(a)\n",
    "print(type(a))\n",
    "\n",
    "a=(2,3,4.6)\n",
    "print(a)\n",
    "print(type(a))\n",
    "\n",
    "a={1:\"abccd\",2:\"woioejf\"}\n",
    "print(a)\n",
    "print(type(a))\n",
    "\n",
    "a=range(0,10)\n",
    "print(a)\n",
    "print(type(a))"
   ]
  },
  {
   "cell_type": "code",
   "execution_count": 7,
   "id": "e4f24323-e26e-47d1-9d32-197e9a56742f",
   "metadata": {},
   "outputs": [
    {
     "name": "stdout",
     "output_type": "stream",
     "text": [
      "10\n",
      "10\n",
      "10\n"
     ]
    }
   ],
   "source": [
    "a=b=c=10\n",
    "print(a)\n",
    "print(b)\n",
    "print(c)"
   ]
  },
  {
   "cell_type": "code",
   "execution_count": 9,
   "id": "123243ce-e9cf-444e-a06d-ccf9e7e5dfbd",
   "metadata": {},
   "outputs": [
    {
     "name": "stdout",
     "output_type": "stream",
     "text": [
      "ajh 123 232.34\n"
     ]
    },
    {
     "ename": "TypeError",
     "evalue": "can only concatenate str (not \"int\") to str",
     "output_type": "error",
     "traceback": [
      "\u001b[1;31m---------------------------------------------------------------------------\u001b[0m",
      "\u001b[1;31mTypeError\u001b[0m                                 Traceback (most recent call last)",
      "Cell \u001b[1;32mIn[9], line 5\u001b[0m\n\u001b[0;32m      3\u001b[0m c\u001b[38;5;241m=\u001b[39m\u001b[38;5;241m232.34\u001b[39m\n\u001b[0;32m      4\u001b[0m \u001b[38;5;28mprint\u001b[39m(a,b,c)\n\u001b[1;32m----> 5\u001b[0m \u001b[38;5;28mprint\u001b[39m(\u001b[43ma\u001b[49m\u001b[38;5;241;43m+\u001b[39;49m\u001b[43mb\u001b[49m\u001b[38;5;241m+\u001b[39mc)\n",
      "\u001b[1;31mTypeError\u001b[0m: can only concatenate str (not \"int\") to str"
     ]
    }
   ],
   "source": [
    "a=\"ajh\"\n",
    "b=123\n",
    "c=232.34\n",
    "print(a,b,c)\n",
    "print(a+b+c)"
   ]
  },
  {
   "cell_type": "code",
   "execution_count": 13,
   "id": "176c3163-18bc-4c6d-bdf5-f3890ee94ece",
   "metadata": {},
   "outputs": [
    {
     "name": "stdout",
     "output_type": "stream",
     "text": [
      "sdsfd dfds wuyr\n",
      "sdsfddfdswuyr\n",
      "sdsfd dfds wuyrwuij\n",
      "sdsfddfdswuyrwuij\n"
     ]
    }
   ],
   "source": [
    "a=\"sdsfd\"\n",
    "b=\"dfds\"\n",
    "c=\"wuyr\"\n",
    "print(a,b,c)\n",
    "print(a+b+c)\n",
    "print(a,b,c+\"wuij\")\n",
    "print(a+b+c+\"wuij\")"
   ]
  },
  {
   "cell_type": "code",
   "execution_count": 12,
   "id": "f84f8810-1d1c-4a9b-9e0b-bff42bd74956",
   "metadata": {},
   "outputs": [
    {
     "name": "stdout",
     "output_type": "stream",
     "text": [
      "1 2 3\n"
     ]
    }
   ],
   "source": [
    "a,b,c=[1,2,3]\n",
    "print(a,b,c)"
   ]
  },
  {
   "cell_type": "code",
   "execution_count": 15,
   "id": "6e6005e5-9ebc-4926-922a-0970f89a75ab",
   "metadata": {},
   "outputs": [
    {
     "name": "stdin",
     "output_type": "stream",
     "text": [
      " 5\n",
      " 6\n"
     ]
    },
    {
     "name": "stdout",
     "output_type": "stream",
     "text": [
      "56\n",
      "<class 'str'>\n",
      "<class 'str'>\n",
      "<class 'str'>\n"
     ]
    }
   ],
   "source": [
    "a=input()\n",
    "b=input()\n",
    "c=a+b\n",
    "print(c)\n",
    "print(type(a))\n",
    "print(type(b))\n",
    "print(type(c))"
   ]
  },
  {
   "cell_type": "code",
   "execution_count": 16,
   "id": "78e340c3-ff82-4396-b2d5-cd1e3fd97301",
   "metadata": {},
   "outputs": [
    {
     "name": "stdin",
     "output_type": "stream",
     "text": [
      " 4\n",
      " 5\n"
     ]
    },
    {
     "name": "stdout",
     "output_type": "stream",
     "text": [
      "9\n",
      "<class 'str'>\n",
      "<class 'str'>\n",
      "<class 'int'>\n"
     ]
    }
   ],
   "source": [
    "a=input()\n",
    "b=input()\n",
    "c=int(a)+int(b)\n",
    "print(c)\n",
    "print(type(a))\n",
    "print(type(b))\n",
    "print(type(c))"
   ]
  },
  {
   "cell_type": "code",
   "execution_count": 17,
   "id": "aa0fd21d-08bd-493a-971d-cbab9a1b1ca1",
   "metadata": {},
   "outputs": [
    {
     "name": "stdin",
     "output_type": "stream",
     "text": [
      " 4\n",
      " 7\n"
     ]
    },
    {
     "name": "stdout",
     "output_type": "stream",
     "text": [
      "11\n",
      "<class 'int'>\n",
      "<class 'int'>\n",
      "<class 'int'>\n"
     ]
    }
   ],
   "source": [
    "a=int(input())\n",
    "b=int(input())\n",
    "c=int(a)+int(b)\n",
    "print(c)\n",
    "print(type(a))\n",
    "print(type(b))\n",
    "print(type(c))"
   ]
  },
  {
   "cell_type": "code",
   "execution_count": 20,
   "id": "56e4380f-d477-4f51-9404-bcf25ee05ff6",
   "metadata": {},
   "outputs": [
    {
     "name": "stdin",
     "output_type": "stream",
     "text": [
      "enter first number: 4\n",
      "enter second number: 5\n"
     ]
    },
    {
     "name": "stdout",
     "output_type": "stream",
     "text": [
      "9\n"
     ]
    }
   ],
   "source": [
    "a=int(input(\"enter first number:\"))\n",
    "b=int(input(\"enter second number:\"))\n",
    "c=a+b\n",
    "print(c)"
   ]
  },
  {
   "cell_type": "code",
   "execution_count": 29,
   "id": "ecabbf4b-6e39-430f-9c20-d3dcb470ca36",
   "metadata": {},
   "outputs": [
    {
     "name": "stdin",
     "output_type": "stream",
     "text": [
      "enter three number: 4 5 6 \n"
     ]
    },
    {
     "name": "stdout",
     "output_type": "stream",
     "text": [
      "456\n",
      "<class 'str'>\n"
     ]
    }
   ],
   "source": [
    "a,b,c=input(\"enter three number:\").split()\n",
    "\n",
    "d=a+b+c\n",
    "print(d)\n",
    "print(type(d))\n"
   ]
  },
  {
   "cell_type": "code",
   "execution_count": 32,
   "id": "862ced4a-12d4-4522-a591-8b7c3d253fec",
   "metadata": {},
   "outputs": [
    {
     "name": "stdin",
     "output_type": "stream",
     "text": [
      "enter three number: 4 sneha 5.5\n"
     ]
    },
    {
     "name": "stdout",
     "output_type": "stream",
     "text": [
      "4sneha5.5\n",
      "<class 'str'>\n"
     ]
    }
   ],
   "source": [
    "a,b,c=input(\"enter three number:\").split()\n",
    "\n",
    "d=a+b+c\n",
    "print(d)\n",
    "print(type(d))\n"
   ]
  },
  {
   "cell_type": "code",
   "execution_count": null,
   "id": "e28d5394-c54d-48c7-88e3-3071e44dc1fa",
   "metadata": {},
   "outputs": [],
   "source": []
  }
 ],
 "metadata": {
  "kernelspec": {
   "display_name": "Python 3 (ipykernel)",
   "language": "python",
   "name": "python3"
  },
  "language_info": {
   "codemirror_mode": {
    "name": "ipython",
    "version": 3
   },
   "file_extension": ".py",
   "mimetype": "text/x-python",
   "name": "python",
   "nbconvert_exporter": "python",
   "pygments_lexer": "ipython3",
   "version": "3.12.3"
  }
 },
 "nbformat": 4,
 "nbformat_minor": 5
}
