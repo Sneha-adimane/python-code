{
 "cells": [
  {
   "cell_type": "markdown",
   "id": "9158f382-20fa-4c61-86a7-87bfd4fe429b",
   "metadata": {},
   "source": [
    "file handelling\n",
    "\n",
    "create \n",
    "read\n",
    "update\n",
    "delete\n",
    "\n",
    "CRUD OPERATIONS"
   ]
  },
  {
   "cell_type": "code",
   "execution_count": null,
   "id": "2dd6a04a-5fb4-47f5-a770-2c38f1d52c64",
   "metadata": {},
   "outputs": [],
   "source": [
    "if _name_ == '_main_':\n",
    "    filename = \"example.txt\"\n",
    "    new_filename = \"new_example.txt\"\n",
    "\n",
    "    create_file(file\n"
   ]
  },
  {
   "cell_type": "code",
   "execution_count": 11,
   "id": "ac8eeda3-46e5-4c8c-8fab-6f541aa88a67",
   "metadata": {},
   "outputs": [],
   "source": [
    "import os\n",
    "\n",
    "with open(\"file.txt\",'w') as f:\n",
    "    f.write(\"this is first text in file\\n\")\n",
    "    f.close()\n",
    "    \n",
    "    "
   ]
  },
  {
   "cell_type": "code",
   "execution_count": 12,
   "id": "cd0b4dcc-b0b8-4a87-8ba7-fe1cecd81143",
   "metadata": {},
   "outputs": [],
   "source": [
    "import os\n",
    "\n",
    "with open(\"file.txt\",'a') as f:\n",
    "    f.write(\"this is second text in file\")\n",
    "    f.close()\n",
    "    \n",
    "    "
   ]
  },
  {
   "cell_type": "code",
   "execution_count": 19,
   "id": "ac4a5748-ee6a-473e-b51e-9256929c3ca1",
   "metadata": {},
   "outputs": [],
   "source": [
    "import os \n",
    "os.remove(\"file.txt\")"
   ]
  },
  {
   "cell_type": "code",
   "execution_count": 13,
   "id": "c005e499-94ed-4c47-ae16-a4957dda83b7",
   "metadata": {},
   "outputs": [
    {
     "name": "stdout",
     "output_type": "stream",
     "text": [
      "this is first text in file\n",
      "111\n",
      "this is second text in file\n",
      "111\n"
     ]
    }
   ],
   "source": [
    "import os\n",
    "\n",
    "with open(\"file.txt\",'r') as f:\n",
    "    for a in f.read().split(\"\\n\"):\n",
    "        print(a)\n",
    "        print(\"111\")\n",
    "\n",
    "    f.close()  "
   ]
  },
  {
   "cell_type": "code",
   "execution_count": 23,
   "id": "117723fa-b876-4e2f-aba2-072edb2caba7",
   "metadata": {},
   "outputs": [
    {
     "name": "stdout",
     "output_type": "stream",
     "text": [
      "I am good girl\n",
      "learning python\n"
     ]
    }
   ],
   "source": [
    "import os \n",
    "\n",
    "with open(\"sneha.txt\",'w') as f:\n",
    "    f.write(\"I am good girl\\n\")\n",
    "with open(\"sneha.txt\",'a') as f:\n",
    "    f.write(\"learning python\")\n",
    "with open(\"sneha.txt\",'r') as f:\n",
    "    for a in f.read().split(\"\\n\"):\n",
    "        print(a)    \n",
    "    f.close()"
   ]
  },
  {
   "cell_type": "code",
   "execution_count": 1,
   "id": "b7129d50-029a-4563-a69a-841dfd5d4c96",
   "metadata": {},
   "outputs": [
    {
     "name": "stdin",
     "output_type": "stream",
     "text": [
      "enter the fruits:\n",
      " apple banana mango grapes\n"
     ]
    },
    {
     "name": "stdout",
     "output_type": "stream",
     "text": [
      "apple watermelon mango grapes\n"
     ]
    }
   ],
   "source": [
    "import os\n",
    "\n",
    "with open(\"fruit_name.txt\",'w') as f:\n",
    "    f.write(input(\"enter the fruits:\\n\"))\n",
    "with open(\"fruit_name.txt\",'r') as f:\n",
    "    for a in f.read().split(\"\\n\"):\n",
    "        a=a.replace(\"banana\",\"watermelon\")\n",
    "        print(a)\n",
    "with open(\"fruit_name.txt\",'w') as f:\n",
    "    f.write(a)\n",
    "    \n",
    "    \n",
    "    f.close()"
   ]
  },
  {
   "cell_type": "code",
   "execution_count": null,
   "id": "1345302f-79fb-45e2-bd78-6a2bc51f900f",
   "metadata": {},
   "outputs": [],
   "source": []
  }
 ],
 "metadata": {
  "kernelspec": {
   "display_name": "Python 3 (ipykernel)",
   "language": "python",
   "name": "python3"
  },
  "language_info": {
   "codemirror_mode": {
    "name": "ipython",
    "version": 3
   },
   "file_extension": ".py",
   "mimetype": "text/x-python",
   "name": "python",
   "nbconvert_exporter": "python",
   "pygments_lexer": "ipython3",
   "version": "3.12.3"
  }
 },
 "nbformat": 4,
 "nbformat_minor": 5
}
