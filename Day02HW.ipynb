{
 "cells": [
  {
   "cell_type": "code",
   "execution_count": 18,
   "id": "ee1c00a0-fddd-4c84-ab9c-e15273d85493",
   "metadata": {},
   "outputs": [
    {
     "name": "stdin",
     "output_type": "stream",
     "text": [
      " 2\n",
      " 3\n"
     ]
    },
    {
     "name": "stdout",
     "output_type": "stream",
     "text": [
      "1.addition\n",
      "2.subtraction\n",
      "3.multiplication\n",
      "4.division\n",
      "5.modulus\n",
      "6.power\n",
      "\n"
     ]
    },
    {
     "name": "stdin",
     "output_type": "stream",
     "text": [
      "enter your choice:  0\n"
     ]
    },
    {
     "name": "stdout",
     "output_type": "stream",
     "text": [
      "invalid\n"
     ]
    }
   ],
   "source": [
    "#menu driven code to perform basic mathematics operations like'+','-','/','*','^','%'\n",
    "\n",
    "a=int(input())\n",
    "b=int(input())\n",
    "print(\"1.addition\\n2.subtraction\\n3.multiplication\\n4.division\\n5.modulus\\n6.power\\n\")\n",
    "c=int(input(\"enter your choice: \"))\n",
    "match c:\n",
    "     case 1:print(a+b)\n",
    "     case 2:print(a-b)\n",
    "     case 3:print(a*b)\n",
    "     case 4:print(a/b)\n",
    "     case 5:print(a%b)\n",
    "     case 6:print(a**b)\n",
    "     case _:print(\"invalid\")\n",
    "         \n",
    "         "
   ]
  },
  {
   "cell_type": "code",
   "execution_count": 5,
   "id": "d9d380c4-b470-4a0f-bbe0-e9aa231b0f88",
   "metadata": {},
   "outputs": [
    {
     "name": "stdin",
     "output_type": "stream",
     "text": [
      "enter a character:  #$\n"
     ]
    },
    {
     "name": "stdout",
     "output_type": "stream",
     "text": [
      "special character\n"
     ]
    }
   ],
   "source": [
    "a=input(\"enter a character: \")\n",
    "\n",
    "if a.isnumeric():\n",
    "    print(\"numeric\") \n",
    "elif a.islower():\n",
    "    print(\"lower case\")\n",
    "elif a.isupper():\n",
    "    print(\"upper case\")\n",
    "else:\n",
    "    print(\"special character\") "
   ]
  },
  {
   "cell_type": "code",
   "execution_count": 5,
   "id": "1a249f63-8d54-49de-9fdd-ea72c2ec0a65",
   "metadata": {},
   "outputs": [
    {
     "name": "stdin",
     "output_type": "stream",
     "text": [
      "enter the name:  madam\n"
     ]
    },
    {
     "name": "stdout",
     "output_type": "stream",
     "text": [
      "the given string is a palindrome\n"
     ]
    }
   ],
   "source": [
    "a=input(\"enter the string: \")\n",
    "s=a[::-1]\n",
    "if a==s:\n",
    "    print(\"the given string is a palindrome\")\n",
    "else:\n",
    "    print(\"the given string is not a palindrome\")"
   ]
  },
  {
   "cell_type": "code",
   "execution_count": 15,
   "id": "268d49dc-0132-4654-a39e-747b76a18a7c",
   "metadata": {},
   "outputs": [
    {
     "name": "stdin",
     "output_type": "stream",
     "text": [
      "enter the number: 1234\n"
     ]
    },
    {
     "name": "stdout",
     "output_type": "stream",
     "text": [
      "4321\n"
     ]
    }
   ],
   "source": [
    "num=int(input(\"enter the number:\"))\n",
    "\n",
    "reversed_num = 0\n",
    "while num > 0:\n",
    "    digit = num % 10\n",
    "    reversed_num = reversed_num * 10 + digit\n",
    "    num = num // 10\n",
    "print(reversed_num)   "
   ]
  },
  {
   "cell_type": "code",
   "execution_count": 1,
   "id": "1f09fb37-5e41-457b-8f78-87295881fd02",
   "metadata": {},
   "outputs": [
    {
     "name": "stdin",
     "output_type": "stream",
     "text": [
      "enter the number: 5\n"
     ]
    },
    {
     "name": "stdout",
     "output_type": "stream",
     "text": [
      "120\n"
     ]
    }
   ],
   "source": [
    "n=int(input(\"enter the number:\"))\n",
    "fact=1\n",
    "for i in range(1,n+1):\n",
    "    fact=fact*i\n",
    "print(fact)\n"
   ]
  },
  {
   "cell_type": "code",
   "execution_count": 12,
   "id": "f17dc92b-8166-481c-89c4-da42d53447fc",
   "metadata": {},
   "outputs": [
    {
     "name": "stdin",
     "output_type": "stream",
     "text": [
      "enter the limit: 10\n"
     ]
    },
    {
     "name": "stdout",
     "output_type": "stream",
     "text": [
      "2\n",
      "3\n",
      "5\n",
      "7\n"
     ]
    }
   ],
   "source": [
    "n=int(input(\"enter the limit:\"))\n",
    "\n",
    "for i in range(1,n+1):\n",
    "    if i>1:\n",
    "        for x in range(2,i):\n",
    "            if (i%x)==0:\n",
    "                break\n",
    "        else:\n",
    "            print(i)\n",
    "        "
   ]
  },
  {
   "cell_type": "code",
   "execution_count": 39,
   "id": "ccc6d82e-9268-4cd0-b764-3246def24f67",
   "metadata": {},
   "outputs": [
    {
     "name": "stdin",
     "output_type": "stream",
     "text": [
      "enter the number: 23\n"
     ]
    },
    {
     "name": "stdout",
     "output_type": "stream",
     "text": [
      "is a prime number\n"
     ]
    }
   ],
   "source": [
    "n=int(input(\"enter the number:\"))\n",
    "flag=0\n",
    "for i in range(2,int(n/2)):\n",
    "        if (n%i)==0:\n",
    "            flag = 1\n",
    "            break\n",
    "if flag:\n",
    "    print(\"not a prime number\")\n",
    "else:\n",
    "    print(\"is a prime number\")\n",
    "        "
   ]
  },
  {
   "cell_type": "code",
   "execution_count": null,
   "id": "476dcde9-dae7-4758-bab7-caa9b4cd90ba",
   "metadata": {},
   "outputs": [],
   "source": []
  }
 ],
 "metadata": {
  "kernelspec": {
   "display_name": "Python 3 (ipykernel)",
   "language": "python",
   "name": "python3"
  },
  "language_info": {
   "codemirror_mode": {
    "name": "ipython",
    "version": 3
   },
   "file_extension": ".py",
   "mimetype": "text/x-python",
   "name": "python",
   "nbconvert_exporter": "python",
   "pygments_lexer": "ipython3",
   "version": "3.12.3"
  }
 },
 "nbformat": 4,
 "nbformat_minor": 5
}
