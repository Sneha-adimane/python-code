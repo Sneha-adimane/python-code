{
 "cells": [
  {
   "cell_type": "code",
   "execution_count": 6,
   "id": "ba93b747-0a34-480a-8718-2a32de225e87",
   "metadata": {},
   "outputs": [
    {
     "name": "stdout",
     "output_type": "stream",
     "text": [
      "1\n",
      "2\n",
      "3\n",
      "4.5\n",
      "5\n"
     ]
    }
   ],
   "source": [
    "a=[1,2,3,4.5,5,6]\n",
    "\n",
    "for i in range(0,5):\n",
    "    print(a[i])"
   ]
  },
  {
   "cell_type": "code",
   "execution_count": 5,
   "id": "d851b3ba-1bb1-499c-91b5-f90482d7804d",
   "metadata": {},
   "outputs": [
    {
     "name": "stdout",
     "output_type": "stream",
     "text": [
      "1\n",
      "<class 'int'>\n",
      "6.66\n",
      "<class 'float'>\n",
      "hggd\n",
      "<class 'str'>\n"
     ]
    }
   ],
   "source": [
    "a=[1,2,3,4.5,6.66,\"hggd\"]\n",
    "print(a[0])\n",
    "print(type(a[0]))\n",
    "print(a[4])\n",
    "print(type(a[4]))\n",
    "print(a[5])\n",
    "print(type(a[5]))\n"
   ]
  },
  {
   "cell_type": "markdown",
   "id": "33cf71e7-2dde-443c-8e5b-85b264eb9b76",
   "metadata": {},
   "source": [
    "pop--> remove and return item at index (default last), raises indexerror if list is empty or index is out of range\n",
    "sort--> it will sort the list in ascending and return none and in descending return true\n",
    "insert--> to insert the object before index\n",
    "append--> it will append object end of the list\n",
    "copy--> copy the list\n",
    "extend--> extend list by appending elements from the iterable\n",
    "index--> return first index of value \n",
    "count--> return number of occurrences of value\n",
    "remove--> remove first occurrence of value\n",
    "\n"
   ]
  },
  {
   "cell_type": "code",
   "execution_count": 36,
   "id": "30b263db-9966-4768-9b62-b63714149494",
   "metadata": {},
   "outputs": [
    {
     "name": "stdout",
     "output_type": "stream",
     "text": [
      "[1, 2, 3, 4, 5]\n",
      "4\n",
      "[1, 2, 3, 5]\n",
      "[1, 2, 3, 5, 10]\n",
      "[1, 2, 3, 5, 10, 3, 6, 7, 3]\n",
      "2\n",
      "3\n",
      "1\n",
      "[1, 2, 3, 5, 9, 10, 3, 6, 7, 3]\n",
      "[1, 2, 5, 9, 10, 3, 6, 7, 3]\n",
      "[1, 2, 3, 3, 5, 6, 7, 9, 10]\n",
      "[10, 9, 7, 6, 5, 3, 3, 2, 1]\n",
      "9\n",
      "[10, 9, 7, 6, 5, 3, 3, 2, 1, 1, 2, 3, 4, 5]\n",
      "[10, 9, 7, 6, 5, 3, 3, 2, 1, 1, 2, 3, 4, 5, 1, 2, 3, 4, 5]\n"
     ]
    }
   ],
   "source": [
    "a=[1,2,3,4,5]\n",
    "b=a.copy()\n",
    "print(b)\n",
    "\n",
    "c=b.pop(3)\n",
    "print(c)\n",
    "\n",
    "print(b)\n",
    "\n",
    "b.append(10)\n",
    "print(b)\n",
    "b.append(3)\n",
    "b.append(6)\n",
    "b.append(7)\n",
    "b.append(3)\n",
    "print(b)\n",
    "\n",
    "print(b.index(3))\n",
    "\n",
    "print(b.count(3))\n",
    "print(b.count(10))\n",
    "\n",
    "b.insert(4,9)\n",
    "print(b)\n",
    "\n",
    "b.remove(3)\n",
    "print(b)\n",
    "\n",
    "b.sort()\n",
    "print(b)\n",
    "b.sort(reverse=True)\n",
    "print(b)\n",
    "\n",
    "print(len(b))\n",
    "\n",
    "b.extend(a)##permanent change\n",
    "print(b)\n",
    "\n",
    "print(b+a)#temporary change"
   ]
  },
  {
   "cell_type": "code",
   "execution_count": 17,
   "id": "bad65a02-3cab-45ea-aea2-2de5cdae7ef3",
   "metadata": {},
   "outputs": [
    {
     "name": "stdout",
     "output_type": "stream",
     "text": [
      "1\n",
      "2\n",
      "45\n",
      "5\n",
      "4\n",
      "423\n",
      "22\n",
      "6\n",
      "7\n",
      "445\n",
      "768\n",
      "86\n",
      "68\n",
      "8\n",
      "9\n",
      "10\n",
      "0\n"
     ]
    }
   ],
   "source": [
    "a=[1,2,45,5,4,423,22,6,7,445,768,86,68,8,9,10,0]\n",
    "for i in a:\n",
    "    print(i)"
   ]
  },
  {
   "cell_type": "code",
   "execution_count": null,
   "id": "1727205e-64f2-442f-8c2f-b75d0b6a8b2e",
   "metadata": {},
   "outputs": [],
   "source": [
    "a=int(input(\"enter the size:\"))\n",
    "\n",
    "for i in range(0,a):\n",
    "    i=input()\n",
    "a.append(i)\n",
    "print(i)    \n"
   ]
  },
  {
   "cell_type": "code",
   "execution_count": 26,
   "id": "6f92ff96-0b3e-406e-8ad1-794308fe1332",
   "metadata": {},
   "outputs": [
    {
     "name": "stdin",
     "output_type": "stream",
     "text": [
      "enter the elements of the lists: 1 2 3 4 5 6\n"
     ]
    },
    {
     "name": "stdout",
     "output_type": "stream",
     "text": [
      "['1', '2', '3', '4', '5', '6']\n"
     ]
    }
   ],
   "source": [
    "l= [item for item in (input(\"enter the elements of the lists:\").split())]\n",
    "print(l)\n"
   ]
  },
  {
   "cell_type": "code",
   "execution_count": 31,
   "id": "032519e9-81a5-4323-8874-d17f2e159ab5",
   "metadata": {},
   "outputs": [
    {
     "name": "stdin",
     "output_type": "stream",
     "text": [
      "enter the elements of the lists: 1 2 4 6 7 \n"
     ]
    },
    {
     "name": "stdout",
     "output_type": "stream",
     "text": [
      "[1, 2, 4, 6, 7]\n"
     ]
    }
   ],
   "source": [
    "l= [int(item) for item in (input(\"enter the elements of the lists:\").split())]\n",
    "print(l)"
   ]
  },
  {
   "cell_type": "code",
   "execution_count": 32,
   "id": "2021e90d-7dd9-4193-9d43-af433769febf",
   "metadata": {},
   "outputs": [
    {
     "name": "stdout",
     "output_type": "stream",
     "text": [
      "[1, 2, 3, 4]\n"
     ]
    }
   ],
   "source": [
    "a=list([1,2,3,4])\n",
    "print(a)"
   ]
  },
  {
   "cell_type": "code",
   "execution_count": 33,
   "id": "2e260713-7f20-4847-a98f-90297c4bb1ec",
   "metadata": {},
   "outputs": [
    {
     "name": "stdout",
     "output_type": "stream",
     "text": [
      "(1, 2, 3, 4, 5, 'hgd')\n",
      "[1, 2, 3, 4, 5, 'hgd']\n",
      "(1, 2, 3, 4, 5, 'fyg')\n"
     ]
    }
   ],
   "source": [
    "#tuples- not mutable and for data security we us tuples , updation cannot be done\n",
    "\n",
    "a=(1,2,3,4,5,\"hgd\")\n",
    "print(a)\n",
    "\n",
    "\n",
    "b= list(a)\n",
    "print(b)\n",
    "b[5]=\"fyg\"\n",
    "\n",
    "a=tuple(b)\n",
    "print(a)"
   ]
  },
  {
   "cell_type": "code",
   "execution_count": 45,
   "id": "6823a974-a014-48cc-bb04-b3fbdda59bdb",
   "metadata": {},
   "outputs": [
    {
     "name": "stdout",
     "output_type": "stream",
     "text": [
      "4\n",
      "3\n",
      "2\n",
      "1\n"
     ]
    }
   ],
   "source": [
    "a=(1,2,3,4)\n",
    "for i in range(-1,-1*(len(a)+1),-1):\n",
    "    print(a[i])\n",
    "    "
   ]
  },
  {
   "cell_type": "code",
   "execution_count": 47,
   "id": "e2548739-2dc9-40c7-86b8-ca499a10a0c2",
   "metadata": {},
   "outputs": [
    {
     "name": "stdout",
     "output_type": "stream",
     "text": [
      "4\n",
      "3\n",
      "2\n",
      "1\n"
     ]
    }
   ],
   "source": [
    "a=(1,2,3,4)\n",
    "for i in range(0,len(a)):\n",
    "    print(a[-1*(i+1)])"
   ]
  },
  {
   "cell_type": "code",
   "execution_count": 57,
   "id": "cf109ed1-d23c-4988-8b7e-82cb0e13bbd3",
   "metadata": {},
   "outputs": [
    {
     "name": "stdout",
     "output_type": "stream",
     "text": [
      "1\n",
      "2\n",
      "3\n",
      "4\n"
     ]
    }
   ],
   "source": [
    "a=(1,2,3,4)\n",
    "for i in range(len(a),0,-1):\n",
    "    print(a[-1*i])\n",
    "\n"
   ]
  },
  {
   "cell_type": "code",
   "execution_count": 64,
   "id": "dbc21dd0-dc77-4ab3-bce6-eaf34fadf108",
   "metadata": {},
   "outputs": [
    {
     "name": "stdout",
     "output_type": "stream",
     "text": [
      "{1: 'sneha', 2: 'ahdkn', 3: 'ewrqsz'}\n",
      "ewrqsz\n",
      "dict_keys([1, 2, 3])\n",
      "dict_values(['sneha', 'ahdkn', 'ewrqsz'])\n",
      "dict_items([(1, 'sneha'), (2, 'ahdkn'), (3, 'ewrqsz')])\n"
     ]
    }
   ],
   "source": [
    "#dictionary- key and values\n",
    "d={1:\"sneha\",2:\"ahdkn\",3:\"ewrqsz\"}\n",
    "print(d)\n",
    "\n",
    "print(d[3])\n",
    "print(d.keys())\n",
    "print(d.values())\n",
    "print(d.items())"
   ]
  },
  {
   "cell_type": "markdown",
   "id": "e988d4b0-0f29-44dd-8fcb-55ee62a8cb7e",
   "metadata": {},
   "source": [
    "dictionary\n",
    "\n",
    "we use {} in dict\n",
    ".keys()- print the key values\n",
    ".values()- print the values\n",
    ".items()- print both keys and values\n",
    "\n",
    "\n",
    "\n",
    "write a program to take keys and values as input from the user and add it to the dict if key is not present in dict we have to add key value and otherwise print key already exits and print its value after adding key we have to print the dict"
   ]
  },
  {
   "cell_type": "code",
   "execution_count": 72,
   "id": "2b84535b-b67e-4f75-b525-5f4466df9a29",
   "metadata": {},
   "outputs": [
    {
     "name": "stdin",
     "output_type": "stream",
     "text": [
      "enter the key: 1 2 3 4 \n",
      "enter the value: dk jre njdf kefj \n"
     ]
    },
    {
     "name": "stdout",
     "output_type": "stream",
     "text": [
      "dict_items([('1 2 3 4 ', 'dk jre njdf kefj ')])\n",
      "dict_keys(['1 2 3 4 '])\n"
     ]
    }
   ],
   "source": [
    "keys=input(\"enter the key:\")\n",
    "values=input(\"enter the value:\")\n",
    "d={keys:values}                                                 #pending\n",
    "print(d.items())\n",
    "print(d.keys())"
   ]
  },
  {
   "cell_type": "code",
   "execution_count": 28,
   "id": "8bbefb7a-4d73-4848-95e5-9a5df5c6b5f0",
   "metadata": {},
   "outputs": [
    {
     "name": "stdin",
     "output_type": "stream",
     "text": [
      " 4\n",
      " 2\n"
     ]
    },
    {
     "name": "stdout",
     "output_type": "stream",
     "text": [
      "2.0\n",
      "division is sucessfull\n",
      "2.0\n",
      "error handled\n",
      "we have reached the results as:  2.0\n"
     ]
    }
   ],
   "source": [
    "A=int(input())\n",
    "B=int(input())\n",
    "try:\n",
    "    c=A/B\n",
    "    print(c)\n",
    "except:\n",
    "    print(\"we can't divide by zero\")\n",
    "    c=0\n",
    "else:\n",
    "    print(\"division is sucessfull\")\n",
    "    print(c)\n",
    "finally:\n",
    "    print(\"error handled\")\n",
    "print(\"we have reached the results as: \",c)    "
   ]
  },
  {
   "cell_type": "code",
   "execution_count": 25,
   "id": "43914a96-817e-4134-aa6f-b6576e80c0eb",
   "metadata": {},
   "outputs": [
    {
     "name": "stdin",
     "output_type": "stream",
     "text": [
      " 9\n"
     ]
    },
    {
     "name": "stdout",
     "output_type": "stream",
     "text": [
      "index is not preent\n"
     ]
    }
   ],
   "source": [
    "x=[1,2,3,4,5,6,7,8,9]\n",
    "i=int(input())\n",
    "try:\n",
    "   print(x[i])\n",
    "except:\n",
    "    print(\"index is not preent\")\n",
    "    \n",
    "            \n"
   ]
  },
  {
   "cell_type": "code",
   "execution_count": 36,
   "id": "2622f64e-173a-4880-b86a-9362a90a9f3a",
   "metadata": {
    "scrolled": true
   },
   "outputs": [
    {
     "name": "stdin",
     "output_type": "stream",
     "text": [
      " 4\n",
      " 2\n"
     ]
    },
    {
     "name": "stdout",
     "output_type": "stream",
     "text": [
      "no error\n",
      "exceution of code is completed\n"
     ]
    }
   ],
   "source": [
    "try:\n",
    "    a=input()\n",
    "    b=input()\n",
    "    c=int(a)/int(b)\n",
    "except ValueError:\n",
    "     print(\"vlaue error has occured\")\n",
    "except ZeroDivisionError:\n",
    "     print(\"division error has occured\")\n",
    "except:\n",
    "    print(\"some unknown error\")\n",
    "else:\n",
    "    print(\"no error\")\n",
    "finally:\n",
    "    print(\"exceution of code is completed\")\n",
    "    "
   ]
  },
  {
   "cell_type": "code",
   "execution_count": null,
   "id": "200ba8aa-abd9-43e2-9a54-070effa4c7de",
   "metadata": {},
   "outputs": [],
   "source": []
  }
 ],
 "metadata": {
  "kernelspec": {
   "display_name": "Python 3 (ipykernel)",
   "language": "python",
   "name": "python3"
  },
  "language_info": {
   "codemirror_mode": {
    "name": "ipython",
    "version": 3
   },
   "file_extension": ".py",
   "mimetype": "text/x-python",
   "name": "python",
   "nbconvert_exporter": "python",
   "pygments_lexer": "ipython3",
   "version": "3.12.3"
  }
 },
 "nbformat": 4,
 "nbformat_minor": 5
}
