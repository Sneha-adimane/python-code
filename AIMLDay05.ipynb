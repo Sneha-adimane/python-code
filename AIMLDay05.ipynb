{
 "cells": [
  {
   "cell_type": "markdown",
   "id": "e859a104-1e50-4f28-8089-a4d29c6bfe69",
   "metadata": {},
   "source": [
    "file\n",
    "\n",
    "write-- w\n",
    "read-- r\n",
    "append-- a\n",
    "write and read-- w+\n",
    "read and write-- r+\n",
    "append and read-- a+"
   ]
  },
  {
   "cell_type": "code",
   "execution_count": 28,
   "id": "d9b7c238-599a-41cb-bf18-8c08ad70fe8a",
   "metadata": {},
   "outputs": [
    {
     "name": "stdout",
     "output_type": "stream",
     "text": [
      "this laptop has i7 16gb ram 1TB SSD\n",
      "0\n",
      "20\n"
     ]
    }
   ],
   "source": [
    "#oops concept\n",
    "\n",
    "class laptop:\n",
    "    a=0\n",
    "    def config(self):\n",
    "        print(\"this laptop has i7 16gb ram 1TB SSD\")\n",
    "    def __init__(self,value):\n",
    "        self.b=value\n",
    "dell=laptop(20) \n",
    "dell.config()\n",
    "print(dell.a)\n",
    "print(dell.b)\n"
   ]
  },
  {
   "cell_type": "code",
   "execution_count": 26,
   "id": "f1dd6fc8-0a16-4f36-8285-40f9b4ec96bf",
   "metadata": {},
   "outputs": [
    {
     "name": "stdout",
     "output_type": "stream",
     "text": [
      "configuration of the laptop is:\n",
      "processor: i7\n",
      "ram: 16\n",
      "storage: 512\n"
     ]
    }
   ],
   "source": [
    "# create a laptop class with variable as processor ,ram,and storage\n",
    "# create function to print the cofiguration of the laptops \n",
    "#create 3 object of laptop with different brand and display its configuration\n",
    "\n",
    "class laptop:\n",
    "    def __init__(self,processor,ram,storage):\n",
    "        self.p=processor\n",
    "        self.r=ram\n",
    "        self.s=storage\n",
    "    def config(self):\n",
    "         print(\"configuration of the laptop is:\")\n",
    "         print(\"processor:\",self.p)\n",
    "         print(\"ram:\",self.r)\n",
    "         print(\"storage:\",self.s)\n",
    "        \n",
    "if __name__==\"__main__\":\n",
    "    dell=laptop(\"i7\",16,512)\n",
    "    dell.config()"
   ]
  },
  {
   "cell_type": "code",
   "execution_count": 49,
   "id": "634e76ef-1984-405f-a6b7-3432e4eb875d",
   "metadata": {},
   "outputs": [
    {
     "name": "stdout",
     "output_type": "stream",
     "text": [
      "marks of maths: 100\n",
      "marks of c: 80\n",
      "marks of c++: 90\n",
      "marks of dsa: 100\n",
      "marks of dco: 98\n",
      "93.6\n"
     ]
    }
   ],
   "source": [
    "# create a class student which can hold the marks in 5 subjects and also create a functions to print the marks and calculate the avg of 5 subjects\n",
    "\n",
    "class student:\n",
    "    def __init__(self,maths,c,cpp,dsa,dco):\n",
    "        self.m=maths\n",
    "        self.cp=c\n",
    "        self.cpc=cpp\n",
    "        self.d=dsa\n",
    "        self.dc=dco\n",
    "    def marks(self):\n",
    "         print(\"marks of maths:\",self.m)\n",
    "         print(\"marks of c:\",self.cp)\n",
    "         print(\"marks of c++:\",self.cpc)\n",
    "         print(\"marks of dsa:\",self.d)\n",
    "         print(\"marks of dco:\",self.dc)\n",
    "    def avg_marks(self):\n",
    "        total=(self.m+self.cp+self.cpc+self.d+self.dc)\n",
    "        avg=total/5\n",
    "        print(avg)\n",
    "if __name__==\"__main__\":\n",
    "    student1=student(100,80,90,100,98)\n",
    "    student1.marks()\n",
    "    student1.avg_marks()"
   ]
  },
  {
   "cell_type": "code",
   "execution_count": 43,
   "id": "10c34a85-2349-4a0a-8fdc-3cb14243dd98",
   "metadata": {},
   "outputs": [
    {
     "name": "stdout",
     "output_type": "stream",
     "text": [
      "1\n",
      "2\n",
      "3\n"
     ]
    }
   ],
   "source": [
    "# access specifier \n",
    "#public normal\n",
    "#private __\n",
    "#protected _\n",
    "\n",
    "\n",
    "class demo:\n",
    "    def __init__(self,a,b,c):\n",
    "        self.x=a                                      #by adding init the init method will not be inherited\n",
    "        self._y=b\n",
    "        self.__z=c\n",
    "   \n",
    "    def output_z(self):\n",
    "        print(self.__z)\n",
    "\n",
    "    def output_y(self):\n",
    "        print(self._y)\n",
    "\n",
    "    def output_x(self):\n",
    "        print(self.x)\n",
    "\n",
    "obj1=demo(1,2,3)\n",
    "obj1.output_x()\n",
    "obj1.output_y()\n",
    "obj1.output_z()\n",
    "\n",
    "        "
   ]
  },
  {
   "cell_type": "code",
   "execution_count": 5,
   "id": "53169eb5-fb51-4df4-990f-44c9d9314d3a",
   "metadata": {},
   "outputs": [
    {
     "name": "stdout",
     "output_type": "stream",
     "text": [
      "this is fun1\n",
      "this is fun2\n",
      "this is fun1\n",
      "this is fun4\n",
      "this is fun1\n",
      "this is fun5\n",
      "this is fun3\n",
      "this is fun5\n",
      "this is fun2\n"
     ]
    }
   ],
   "source": [
    "class a:\n",
    "    def fun1(self):\n",
    "        print(\"this is fun1\")\n",
    "    def fun2(self):\n",
    "        print(\"this is fun2\")    \n",
    "class b(a):\n",
    "    def fun3(self):\n",
    "        print(\"this is fun3\")\n",
    "    def fun4(self):                                \n",
    "        print(\"this is fun4\") \n",
    "\n",
    "class c(a):\n",
    "    def fun5(self):\n",
    "        print(\"this is fun5\")\n",
    "    def fun6(self):\n",
    "        print(\"this is fun6\") \n",
    "\n",
    "class d(b,c):\n",
    "    def fun7(self):\n",
    "        print(\"this is fun7\")\n",
    "    def fun8(self):\n",
    "        print(\"this is fun8\") \n",
    "\n",
    "if __name__==\"__main__\":\n",
    "    obj1=a()\n",
    "    obj2=b()\n",
    "    obj3=c()\n",
    "    obj4=d()\n",
    "\n",
    "    obj1.fun1()\n",
    "    obj1.fun2()\n",
    "    obj2.fun1()\n",
    "    obj2.fun4()\n",
    "    obj3.fun1()\n",
    "    obj3.fun5()\n",
    "    obj4.fun3()\n",
    "    obj4.fun5()\n",
    "    obj4.fun2()"
   ]
  },
  {
   "cell_type": "code",
   "execution_count": 9,
   "id": "4615790c-9a94-4ee8-84d2-b4927938e80e",
   "metadata": {},
   "outputs": [
    {
     "name": "stdout",
     "output_type": "stream",
     "text": [
      "constructor of class c\n",
      "1 2\n"
     ]
    }
   ],
   "source": [
    "class c:\n",
    "    def __init__(self,a,b):\n",
    "        print(\"constructor of class c\")\n",
    "        self.x=a\n",
    "        self.y=b\n",
    "        print(self.x,self.y)\n",
    "\n",
    "obj=c(1,2)\n"
   ]
  },
  {
   "cell_type": "code",
   "execution_count": 8,
   "id": "ed509ce3-889f-412a-93be-fd376c08da1f",
   "metadata": {},
   "outputs": [
    {
     "name": "stdout",
     "output_type": "stream",
     "text": [
      "constructor of class c\n",
      "constructoe of class c with 1 5\n",
      "constructoe of class c with 1 2\n"
     ]
    }
   ],
   "source": [
    "class c:\n",
    "    def __init__(self):\n",
    "        print(\"constructor of class c\")\n",
    "    def abc(self,a,b=5):\n",
    "        print(\"constructoe of class c with\",a,b)\n",
    "   #default constructor\n",
    "\n",
    "ob=c()\n",
    "ob.abc(1)\n",
    "ob.abc(1,2)\n",
    "    "
   ]
  },
  {
   "cell_type": "code",
   "execution_count": 15,
   "id": "6f3d9233-7f44-4181-89f2-8ab3c7972c6e",
   "metadata": {},
   "outputs": [
    {
     "name": "stdout",
     "output_type": "stream",
     "text": [
      "constructor of class a\n",
      "constructor of class b\n",
      "constructor of class c\n",
      "constructor of class d\n",
      "printing the show of a\n",
      "printing the show of b\n",
      "printing the show of c\n",
      "printing the show of a\n",
      "printing the show of d\n"
     ]
    }
   ],
   "source": [
    "class a:\n",
    "    def __init__(self):\n",
    "        print(\"constructor of class a\")\n",
    "    def show(self):\n",
    "        print(\"printing the show of a\")\n",
    "        \n",
    "class b(a):\n",
    "    def __init__(self):\n",
    "        print(\"constructor of class b\")\n",
    "    def show(self):\n",
    "        print(\"printing the show of b\")\n",
    "            \n",
    "\n",
    "class c(a):\n",
    "    def __init__(self):\n",
    "        print(\"constructor of class c\")\n",
    "    def show(self):\n",
    "        print(\"printing the show of c\")\n",
    "        super().show()\n",
    "\n",
    "class d:\n",
    "    def __init__(self):\n",
    "        print(\"constructor of class d\")\n",
    "    def show(self):\n",
    "        print(\"printing the show of d\")\n",
    "        \n",
    "if __name__==\"__main__\":\n",
    "    ob1=a()\n",
    "    ob2=b()\n",
    "    ob3=c()\n",
    "    ob4=d()\n",
    "\n",
    "    ob1.show()\n",
    "    ob2.show()\n",
    "    ob3.show()\n",
    "    ob4.show()\n",
    "    "
   ]
  },
  {
   "cell_type": "code",
   "execution_count": 38,
   "id": "dbe3f79e-f27f-47ba-b223-1bf3cf3ce3dd",
   "metadata": {},
   "outputs": [
    {
     "name": "stdout",
     "output_type": "stream",
     "text": [
      "professional battery: 10hr\n",
      "processor: i7\n",
      "ram: 16\n",
      "storage: 512\n",
      "gaming graphic card: 4gb\n",
      "processor: i7\n",
      "ram: 16\n",
      "storage: 512\n"
     ]
    }
   ],
   "source": [
    "class laptop:\n",
    "    def __init__(self,processor,ram,storage):\n",
    "        self.p=processor\n",
    "        self.r=ram\n",
    "        self.s=storage\n",
    "    def config(self):\n",
    "        print(\"processor:\",self.p)\n",
    "        print(\"ram:\",self.r)\n",
    "        print(\"storage:\",self.s)\n",
    "\n",
    "class professional(laptop):\n",
    "    def __init__(self,batterybackup,processor,ram,storage):\n",
    "        self.battery=batterybackup\n",
    "        super().__init__(processor,ram,storage)\n",
    "    def config(self):\n",
    "         print(\"professional battery:\",self.battery)\n",
    "         super().config()\n",
    "\n",
    "class gaming(laptop):\n",
    "    def __init__(self,graphiccard,processor,ram,storage):\n",
    "        self.graphic=graphiccard\n",
    "        super().__init__(processor,ram,storage)\n",
    "    def config(self):\n",
    "        print(\"gaming graphic card:\",self.graphic)\n",
    "        super().config()\n",
    "\n",
    "if __name__==\"__main__\":\n",
    "    d2=professional(\"10hr\",\"i7\",16,512)\n",
    "    d3=gaming(\"4gb\",\"i7\",16,512)\n",
    "\n",
    "    d2.config()\n",
    "    d3.config()\n",
    "    "
   ]
  },
  {
   "cell_type": "code",
   "execution_count": 44,
   "id": "7ceaa0f1-0640-41e3-bf30-a5d6b60ad64d",
   "metadata": {},
   "outputs": [
    {
     "name": "stdout",
     "output_type": "stream",
     "text": [
      "professionl laptop having i5 8 512 6hrs\n",
      "gaming laptop have having i5 8 512 2\n"
     ]
    }
   ],
   "source": [
    "class laptop:\n",
    "    def __init__(self,p,r,s):\n",
    "        self.processor=p\n",
    "        self.ram=r\n",
    "        self.storage=s\n",
    "\n",
    "class professional_laptop(laptop): \n",
    "    def __init__(self,b,p,r,s):\n",
    "        self.backup=b\n",
    "        super().__init__(p,r,s)\n",
    "          \n",
    "class gaming_laptop(laptop):\n",
    "    def __init__(self,g,p,r,s):\n",
    "          self.grapiccard=g\n",
    "          super().__init__(p,r,s)\n",
    "          \n",
    "pro1=professional_laptop(\"6hrs\",\"i5\",8,512)\n",
    "gam1=gaming_laptop(2,\"i5\",8,512)\n",
    "\n",
    "print(\"professionl laptop having\",\n",
    "      pro1.processor,pro1.ram,pro1.storage,pro1.backup)\n",
    "print(\"gaming laptop have having\",\n",
    "      gam1.processor,gam1.ram,gam1.storage,gam1.grapiccard)\n"
   ]
  },
  {
   "cell_type": "code",
   "execution_count": 58,
   "id": "61d2e04a-e78d-46ac-b366-c9895c620a3b",
   "metadata": {},
   "outputs": [
    {
     "name": "stdout",
     "output_type": "stream",
     "text": [
      "Ticket booked Fare Price will be:  6550 \n",
      "\n",
      "Ticket booked Fare Price will be:  7850 \n",
      "\n",
      "Ticket booked Fare Price will be:  5250 \n",
      "\n",
      "Ticket booked Fare Price will be:  4050 \n",
      "\n",
      "Ticket booked Fare Price will be:  4850 \n",
      "\n",
      "Ticket booked Fare Price will be:  3250 \n",
      "\n",
      "Ticket booked Fare Price will be:  2050 \n",
      "\n",
      "Ticket booked Fare Price will be:  2450 \n",
      "\n",
      "Ticket booked Fare Price will be:  1650 \n",
      "\n",
      "Ticket booked Fare Price will be:  1050 \n",
      "\n",
      "Ticket booked Fare Price will be:  1250 \n",
      "\n",
      "Ticket booked Fare Price will be:  850 \n",
      "\n"
     ]
    }
   ],
   "source": [
    "class ticket:\n",
    "   \n",
    "    def __init__(self,D):\n",
    "        self.distance = int(D)\n",
    "        self.farePrice = None\n",
    "\n",
    "class gen(ticket):\n",
    "    def __init__(self,D):\n",
    "        super().__init__(D)\n",
    "    def print_ticket(self):\n",
    "        self.farePrice=50+(self.distance*2)\n",
    "        return self.farePrice\n",
    "        \n",
    "\n",
    "\n",
    "class slp(gen):\n",
    "    def __init__(self,D):\n",
    "        super().__init__(D)\n",
    "\n",
    "    def print_ticket(self):\n",
    "        self.farePrice=super().print_ticket()+(2*self.distance)\n",
    "        return self.farePrice\n",
    "\n",
    "class AC(slp):\n",
    "    def __init__(self,D):\n",
    "        super().__init__(D)\n",
    "    def print_ticket(self):\n",
    "        self.farePrice=super().print_ticket()+(4*self.distance)\n",
    "        return self.farePrice\n",
    "\n",
    "class FC(AC):\n",
    "    def __init__(self,D):\n",
    "        super().__init__(D)\n",
    "    def print_ticket(self):\n",
    "        self.farePrice=super().print_ticket()+(5*self.distance)\n",
    "        return self.farePrice\n",
    "\n",
    "\n",
    "jur=FC(500)\n",
    "print(\"Ticket booked Fare Price will be: \",jur.print_ticket(),\"\\n\")\n",
    "jur=FC(600)\n",
    "print(\"Ticket booked Fare Price will be: \",jur.print_ticket(),\"\\n\")\n",
    "jur=FC(400)\n",
    "print(\"Ticket booked Fare Price will be: \",jur.print_ticket(),\"\\n\")\n",
    "\n",
    "\n",
    "jur=AC(500)\n",
    "print(\"Ticket booked Fare Price will be: \",jur.print_ticket(),\"\\n\")\n",
    "jur=AC(600)\n",
    "print(\"Ticket booked Fare Price will be: \",jur.print_ticket(),\"\\n\")\n",
    "jur=AC(400)\n",
    "print(\"Ticket booked Fare Price will be: \",jur.print_ticket(),\"\\n\")\n",
    "\n",
    "jur=slp(500)\n",
    "print(\"Ticket booked Fare Price will be: \",jur.print_ticket(),\"\\n\")\n",
    "jur=slp(600)\n",
    "print(\"Ticket booked Fare Price will be: \",jur.print_ticket(),\"\\n\")\n",
    "jur=slp(400)\n",
    "print(\"Ticket booked Fare Price will be: \",jur.print_ticket(),\"\\n\")\n",
    "\n",
    "\n",
    "jur=gen(500)\n",
    "print(\"Ticket booked Fare Price will be: \",jur.print_ticket(),\"\\n\")\n",
    "jur=gen(600)\n",
    "print(\"Ticket booked Fare Price will be: \",jur.print_ticket(),\"\\n\")\n",
    "jur=gen(400)\n",
    "print(\"Ticket booked Fare Price will be: \",jur.print_ticket(),\"\\n\")\n",
    "\n",
    "\n"
   ]
  },
  {
   "cell_type": "code",
   "execution_count": null,
   "id": "a8f99e72-63aa-46e8-83d0-a730c3cb0919",
   "metadata": {},
   "outputs": [],
   "source": []
  }
 ],
 "metadata": {
  "kernelspec": {
   "display_name": "Python 3 (ipykernel)",
   "language": "python",
   "name": "python3"
  },
  "language_info": {
   "codemirror_mode": {
    "name": "ipython",
    "version": 3
   },
   "file_extension": ".py",
   "mimetype": "text/x-python",
   "name": "python",
   "nbconvert_exporter": "python",
   "pygments_lexer": "ipython3",
   "version": "3.12.3"
  }
 },
 "nbformat": 4,
 "nbformat_minor": 5
}
