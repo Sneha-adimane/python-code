{
 "cells": [
  {
   "cell_type": "code",
   "execution_count": 1,
   "id": "16a804a7-a7b9-49c3-b461-05559a1a5460",
   "metadata": {},
   "outputs": [
    {
     "name": "stdout",
     "output_type": "stream",
     "text": [
      "19\n"
     ]
    }
   ],
   "source": [
    "#find the max sum of any 3 consecutive elements of array\n",
    "\n",
    "L=[2,4,6,1,3,7,4,6,9,3,6,8,3,6,4,1,3,9,6,4,5,6,8,3,7,3,6,8]\n",
    "n=len(L)\n",
    "Max=0\n",
    "for i in range(0,n-2):\n",
    "    sum=L[i]+L[i+1]+L[i+2]\n",
    "    if(Max<sum):\n",
    "        Max=sum\n",
    "\n",
    "print(Max)\n",
    "    \n"
   ]
  },
  {
   "cell_type": "code",
   "execution_count": 28,
   "id": "4a241a48-4027-4723-853b-51a3496eb533",
   "metadata": {},
   "outputs": [
    {
     "name": "stdin",
     "output_type": "stream",
     "text": [
      "enter the consecutive number: 3\n"
     ]
    },
    {
     "name": "stdout",
     "output_type": "stream",
     "text": [
      "19\n"
     ]
    }
   ],
   "source": [
    "L=[2,4,6,1,3,7,4,6,9,3,6,8,3,6,4,1,3,9,6,4,5,6,8,3,7,3,6,8]\n",
    "n=len(L)\n",
    "Max=0\n",
    "x=int(input(\"enter the consecutive number:\"))\n",
    "for i in range(0,n-(x-1)):\n",
    "    sum=0\n",
    "    for j in range(0,x):\n",
    "        sum=sum+L[i+j]\n",
    "    if(Max<sum):\n",
    "        Max=sum\n",
    "\n",
    "print(Max)\n",
    "    "
   ]
  },
  {
   "cell_type": "code",
   "execution_count": 5,
   "id": "2beb60d6-701d-4738-aa84-67f1299b85d1",
   "metadata": {},
   "outputs": [
    {
     "name": "stdin",
     "output_type": "stream",
     "text": [
      "enter the consecutive number: 3\n"
     ]
    },
    {
     "name": "stdout",
     "output_type": "stream",
     "text": [
      "19\n"
     ]
    }
   ],
   "source": [
    "L=[2,4,6,1,3,7,4,6,9,3,6,8,3,6,4,1,3,9,6,4,5,6,8,3,7,3,6,8]\n",
    "n=len(L)\n",
    "Max=sum=0\n",
    "x=int(input(\"enter the consecutive number:\"))\n",
    "for i in range(0,x):\n",
    "    sum=sum+L[i]\n",
    "for j in range(0,n-x-1):\n",
    "    if(Max<sum):\n",
    "        Max=sum\n",
    "    sum=sum+L[j+x]-L[j]    \n",
    "print(Max)\n",
    "    "
   ]
  },
  {
   "cell_type": "code",
   "execution_count": 4,
   "id": "ff426000-77b1-48af-9b44-23e1a79b421b",
   "metadata": {},
   "outputs": [
    {
     "name": "stdout",
     "output_type": "stream",
     "text": [
      "[1, 2, 3, 4, 5, 6, 7, 8, 9]\n"
     ]
    }
   ],
   "source": [
    "l=[3,5,2,6,7,4,8,1,9]\n",
    "l.sort()\n",
    "print(l)\n",
    "\n"
   ]
  },
  {
   "cell_type": "code",
   "execution_count": 32,
   "id": "af859d07-4a10-4999-add4-2204af16ce80",
   "metadata": {},
   "outputs": [
    {
     "name": "stdout",
     "output_type": "stream",
     "text": [
      "[1, 2, 3, 4, 5, 6, 7, 8, 9]\n"
     ]
    }
   ],
   "source": [
    "L=[3,5,2,6,7,4,8,1,9]\n",
    "for i in range(0,len(L)):\n",
    "    for j in range(i+1,len(L)-1):\n",
    "        if L[i]>L[j]:\n",
    "            L[i],L[j]=L[j],L[i]\n",
    "print(L)    "
   ]
  },
  {
   "cell_type": "code",
   "execution_count": 39,
   "id": "7df0a412-4804-4bcd-bf93-3330c011143f",
   "metadata": {},
   "outputs": [
    {
     "name": "stdout",
     "output_type": "stream",
     "text": [
      "[1, 2, 3, 4, 5, 6, 7, 8, 9]\n"
     ]
    }
   ],
   "source": [
    "#bubble sort\n",
    "L=[3,5,2,6,7,4,8,1,9]\n",
    "for i in range(0,len(L)):\n",
    "     for j in range(i+1,len(L)-1):\n",
    "         if L[i]>L[j]:\n",
    "             temp=L[i]\n",
    "             L[i]=L[j]\n",
    "             L[j]=temp\n",
    "print(L)\n",
    "    "
   ]
  }
 ],
 "metadata": {
  "kernelspec": {
   "display_name": "Python 3 (ipykernel)",
   "language": "python",
   "name": "python3"
  },
  "language_info": {
   "codemirror_mode": {
    "name": "ipython",
    "version": 3
   },
   "file_extension": ".py",
   "mimetype": "text/x-python",
   "name": "python",
   "nbconvert_exporter": "python",
   "pygments_lexer": "ipython3",
   "version": "3.12.3"
  }
 },
 "nbformat": 4,
 "nbformat_minor": 5
}
