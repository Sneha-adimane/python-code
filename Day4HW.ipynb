{
 "cells": [
  {
   "cell_type": "code",
   "execution_count": 7,
   "id": "1771ac4b-7d3a-45ff-83c9-ac20ee85263b",
   "metadata": {},
   "outputs": [
    {
     "name": "stdin",
     "output_type": "stream",
     "text": [
      "enter the temperature in celsius: 40\n"
     ]
    },
    {
     "name": "stdout",
     "output_type": "stream",
     "text": [
      "The temperature in fahernhit is: 104.0\n"
     ]
    }
   ],
   "source": [
    "# temperature C to F\n",
    "\n",
    "c=int(input(\"enter the temperature in celsius:\"))\n",
    "f=(c*9/5)+32\n",
    "print(\"The temperature in fahernhit is:\",f)"
   ]
  },
  {
   "cell_type": "code",
   "execution_count": 11,
   "id": "85f7b2e1-6701-4191-a239-a76c40031cb3",
   "metadata": {},
   "outputs": [
    {
     "name": "stdout",
     "output_type": "stream",
     "text": [
      "[10, 20, 34, 45, 56, 87, 98]\n",
      "87\n"
     ]
    }
   ],
   "source": [
    "list=[10,45,20,34,87,56,98]\n",
    "list.sort()\n",
    "print(list)\n",
    "print(list[-2])\n"
   ]
  },
  {
   "cell_type": "code",
   "execution_count": 8,
   "id": "a0394b24-c3f3-4911-8132-f1eeadb794ab",
   "metadata": {},
   "outputs": [
    {
     "name": "stdout",
     "output_type": "stream",
     "text": [
      "1 : 1\n",
      "4 : 4\n",
      "2 : 2\n",
      "3 : 2\n",
      "7 : 1\n",
      "8 : 1\n",
      "2 : 2\n",
      "3 : 2\n",
      "4 : 4\n",
      "4 : 4\n",
      "4 : 4\n"
     ]
    }
   ],
   "source": [
    "list=[1,4,2,3,7,8,2,3,4,4,4]\n",
    "for i in list:\n",
    "    print(i,\":\",list.count(i))\n"
   ]
  },
  {
   "cell_type": "code",
   "execution_count": 9,
   "id": "61c54355-dae3-4db1-89d4-8de9908b604c",
   "metadata": {},
   "outputs": [
    {
     "name": "stdin",
     "output_type": "stream",
     "text": [
      "enter the limit: 10\n"
     ]
    },
    {
     "name": "stdout",
     "output_type": "stream",
     "text": [
      "0\n",
      "2\n",
      "4\n",
      "6\n",
      "8\n"
     ]
    }
   ],
   "source": [
    "a=int(input(\"enter the limit:\"))\n",
    "for i in range(0,a):\n",
    "    if i%2==0:\n",
    "        print(i)"
   ]
  },
  {
   "cell_type": "code",
   "execution_count": 28,
   "id": "ac27df03-5c48-4cb1-8b6f-784b012a867d",
   "metadata": {},
   "outputs": [
    {
     "name": "stdin",
     "output_type": "stream",
     "text": [
      "enter the string: buygduhvdfasaou\n"
     ]
    },
    {
     "name": "stdout",
     "output_type": "stream",
     "text": [
      "6\n"
     ]
    }
   ],
   "source": [
    "n=input(\"enter the string:\")\n",
    "vowel=\"aeiou\"\n",
    "count=sum(n.count(vowel) for vowel in vowel)\n",
    "print(count)"
   ]
  },
  {
   "cell_type": "code",
   "execution_count": 33,
   "id": "2aa0bda3-de5d-4f0d-a693-f7364d2af750",
   "metadata": {},
   "outputs": [
    {
     "name": "stdin",
     "output_type": "stream",
     "text": [
      "enter the string: abcdef\n"
     ]
    },
    {
     "name": "stdout",
     "output_type": "stream",
     "text": [
      "f\n",
      "e\n",
      "d\n",
      "c\n",
      "b\n",
      "a\n"
     ]
    }
   ],
   "source": [
    "x=input(\"enter the string:\")\n",
    "for i in range(0,len(x)):\n",
    "    print(x[-1*(i+1)])"
   ]
  },
  {
   "cell_type": "code",
   "execution_count": null,
   "id": "93ba5209-af5a-4a49-b95e-95bfcfe7131b",
   "metadata": {},
   "outputs": [],
   "source": []
  }
 ],
 "metadata": {
  "kernelspec": {
   "display_name": "Python 3 (ipykernel)",
   "language": "python",
   "name": "python3"
  },
  "language_info": {
   "codemirror_mode": {
    "name": "ipython",
    "version": 3
   },
   "file_extension": ".py",
   "mimetype": "text/x-python",
   "name": "python",
   "nbconvert_exporter": "python",
   "pygments_lexer": "ipython3",
   "version": "3.12.3"
  }
 },
 "nbformat": 4,
 "nbformat_minor": 5
}
