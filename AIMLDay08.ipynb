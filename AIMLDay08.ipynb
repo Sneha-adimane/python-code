{
 "cells": [
  {
   "cell_type": "code",
   "execution_count": 1,
   "id": "f5aaf93c-c326-4a0e-8740-d7eb150e7098",
   "metadata": {},
   "outputs": [
    {
     "name": "stdout",
     "output_type": "stream",
     "text": [
      "[1, 2, 3, 4, 5, 6, 7, 8, 9]\n"
     ]
    }
   ],
   "source": [
    "#bubble sort\n",
    "L=[3,5,2,6,7,4,8,1,9]\n",
    "for i in range(0,len(L)):\n",
    "     for j in range(i+1,len(L)-1):\n",
    "         if L[i]>L[j]:\n",
    "             temp=L[i]\n",
    "             L[i]=L[j]\n",
    "             L[j]=temp\n",
    "print(L)\n",
    "    "
   ]
  },
  {
   "cell_type": "code",
   "execution_count": 2,
   "id": "a1e70226-da7b-409e-87a4-c27cb70a5686",
   "metadata": {},
   "outputs": [
    {
     "name": "stdout",
     "output_type": "stream",
     "text": [
      "[1, 2, 3, 4, 5, 6, 7, 8, 9]\n"
     ]
    }
   ],
   "source": [
    "#insertion sorting\n",
    "L=[3,5,2,6,7,4,8,1,9]\n",
    "for i in range(1,len(L)):\n",
    "    temp=L[i]\n",
    "    j=i-1\n",
    "    while j>=0 and temp<L[j]:\n",
    "        L[j+1]=L[j]\n",
    "        j-=1\n",
    "    L[j+1]=temp    \n",
    "          \n",
    "            \n",
    "\n",
    "print(L)\n",
    "        "
   ]
  },
  {
   "cell_type": "code",
   "execution_count": 3,
   "id": "fe9eb5c9-6c4b-42fc-8273-bc593e013a6a",
   "metadata": {},
   "outputs": [
    {
     "name": "stdout",
     "output_type": "stream",
     "text": [
      "[1, 2, 3, 4, 5, 6, 7, 8, 9]\n"
     ]
    }
   ],
   "source": [
    "#selection sort\n",
    "arr=[3,5,2,6,7,4,8,1,9]\n",
    "for i in range(0,len(arr)):\n",
    "    min=i\n",
    "    for j in range(i+1,len(arr)):\n",
    "        if arr[min]>arr[j]:\n",
    "            min=j\n",
    "    temp=arr[i]\n",
    "    arr[i]=arr[min]\n",
    "    arr[min]=temp\n",
    "\n",
    "print(arr)\n",
    "\n",
    "    "
   ]
  },
  {
   "cell_type": "code",
   "execution_count": 4,
   "id": "3798975c-87ed-478e-8fb4-cf4e1e3a9f7d",
   "metadata": {},
   "outputs": [
    {
     "name": "stdout",
     "output_type": "stream",
     "text": [
      "0 0 0\n",
      "0 1 1\n",
      "0 2 1\n",
      "0 3 3\n",
      "0 4 3\n",
      "0 5 3\n",
      "[2, 5, 6, 9, 3, 4]\n",
      "1 1 1\n",
      "1 2 1\n",
      "1 3 1\n",
      "1 4 4\n",
      "1 5 4\n",
      "[2, 3, 6, 9, 5, 4]\n",
      "2 2 2\n",
      "2 3 2\n",
      "2 4 4\n",
      "2 5 5\n",
      "[2, 3, 4, 9, 5, 6]\n",
      "3 3 3\n",
      "3 4 4\n",
      "3 5 4\n",
      "[2, 3, 4, 5, 9, 6]\n",
      "4 4 4\n",
      "4 5 5\n",
      "[2, 3, 4, 5, 6, 9]\n",
      "5 5 5\n",
      "[2, 3, 4, 5, 6, 9]\n"
     ]
    }
   ],
   "source": [
    "#selection sort\n",
    "arr=[9,5,6,2,3,4]\n",
    "for j in range(0,len(arr)):\n",
    "    a=j\n",
    "    for i in range(j,len(arr)):\n",
    "        if arr[i]<arr[a]:\n",
    "            a=i\n",
    "        print(j,i,a)\n",
    "    arr[a],arr[j]=arr[j],arr[a]\n",
    "    print(arr)\n"
   ]
  },
  {
   "cell_type": "code",
   "execution_count": 9,
   "id": "149871b2-e700-43a3-99bc-dd209dd371b2",
   "metadata": {},
   "outputs": [
    {
     "name": "stdout",
     "output_type": "stream",
     "text": [
      "[1, 2, 3, 4, 5, 7, 8, 9]\n"
     ]
    },
    {
     "name": "stdin",
     "output_type": "stream",
     "text": [
      " 0\n"
     ]
    },
    {
     "name": "stdout",
     "output_type": "stream",
     "text": [
      "item not in a list\n",
      "low 0 high 8 mid 4\n",
      "low 0 high 3 mid 1\n",
      "low 0 high 0 mid 0\n",
      "element not found\n"
     ]
    }
   ],
   "source": [
    "#binary search\n",
    "l=[4,2,1,8,7,9,3,5]\n",
    "l.sort()\n",
    "print(l)\n",
    "low=0\n",
    "high= len(l)\n",
    "key=int(input())\n",
    "try:\n",
    "    print(\"index of elementis\",l.index(key))\n",
    "except:\n",
    "    print(\"item not in a list\")\n",
    "flag=0\n",
    "while low<=high:\n",
    "    mid=int(low+(high-low)/2)\n",
    "    print(\"low\",low,\"high\",high,\"mid\",mid)\n",
    "    if key<l[mid]:\n",
    "        high=mid-1\n",
    "    elif key>l[mid]:\n",
    "        low=mid+1\n",
    "    else:\n",
    "        flag=1\n",
    "        break\n",
    "if flag==1:            \n",
    "     print(\"element found at\",mid)\n",
    "else:\n",
    "    print(\"element not found\")"
   ]
  },
  {
   "cell_type": "code",
   "execution_count": 33,
   "id": "ad36bf56-a492-4300-900a-ebc960339efd",
   "metadata": {
    "scrolled": true
   },
   "outputs": [
    {
     "name": "stdin",
     "output_type": "stream",
     "text": [
      "enter the string: fyb (DFDFG)FF[ ]{}fug{frni}g()\n"
     ]
    },
    {
     "name": "stdout",
     "output_type": "stream",
     "text": [
      "valid\n"
     ]
    }
   ],
   "source": [
    "#valid string\n",
    "c=input(\"enter the string:\")\n",
    "x=y=z=0\n",
    "for i in c:\n",
    "   match (i):\n",
    "    case '(': x+=1\n",
    "    case ')': x-=1   \n",
    "    case '[': y+=1\n",
    "    case ']': y-=1\n",
    "    case '{': z+=1\n",
    "    case '}': z-=1\n",
    "    case _: continue\n",
    "\n",
    "if x+y+z==0:\n",
    "    print(\"valid\") \n",
    "else:\n",
    "    print(\"invalid\")\n",
    "    \n",
    "            \n",
    "        \n",
    "\n",
    " \n",
    "\n"
   ]
  },
  {
   "cell_type": "code",
   "execution_count": 47,
   "id": "862eda8e-0648-4090-ab5d-8e3b64a28a1c",
   "metadata": {},
   "outputs": [
    {
     "name": "stdout",
     "output_type": "stream",
     "text": [
      "item added to the stack\n",
      "item added to the stack\n",
      "item added to the stack\n",
      "[2, 6, 8]\n",
      "item removed from the stack\n",
      "[2, 6]\n"
     ]
    }
   ],
   "source": [
    "# stack and queue\n",
    "\n",
    "def add(a):\n",
    "    s.append(a)\n",
    "    print(\"item added to the stack\")\n",
    "    \n",
    "def delete():\n",
    "    s.pop()\n",
    "    print(\"item removed from the stack\")\n",
    "\n",
    "s=[]\n",
    "add(2)\n",
    "add(6)\n",
    "add(8)\n",
    "\n",
    "print(s)\n",
    "delete()\n",
    "print(s)"
   ]
  },
  {
   "cell_type": "code",
   "execution_count": 53,
   "id": "0c5120a3-1ef9-49f6-b77f-f705bd412386",
   "metadata": {},
   "outputs": [
    {
     "name": "stdout",
     "output_type": "stream",
     "text": [
      "item added to the queue\n",
      "item added to the queue\n",
      "item added to the queue\n",
      "item added to the queue\n",
      "[1, 2, 3, 4]\n",
      "item removed from the queue\n",
      "[2, 3, 4]\n",
      "item removed from the queue\n",
      "[3, 4]\n"
     ]
    }
   ],
   "source": [
    "def add(a):\n",
    "    q.append(a)\n",
    "    print(\"item added to the queue\")\n",
    "    \n",
    "def delete():\n",
    "        q.pop(0)\n",
    "        print(\"item removed from the queue\")\n",
    "\n",
    "q=[]\n",
    "add(1)\n",
    "add(2)\n",
    "add(3)\n",
    "add(4)\n",
    "print(q)\n",
    "delete()\n",
    "print(q)\n",
    "delete()\n",
    "print(q)"
   ]
  },
  {
   "cell_type": "code",
   "execution_count": null,
   "id": "8d4e4b60-d450-403a-8934-9a03696dff20",
   "metadata": {},
   "outputs": [],
   "source": []
  }
 ],
 "metadata": {
  "kernelspec": {
   "display_name": "Python 3 (ipykernel)",
   "language": "python",
   "name": "python3"
  },
  "language_info": {
   "codemirror_mode": {
    "name": "ipython",
    "version": 3
   },
   "file_extension": ".py",
   "mimetype": "text/x-python",
   "name": "python",
   "nbconvert_exporter": "python",
   "pygments_lexer": "ipython3",
   "version": "3.12.3"
  }
 },
 "nbformat": 4,
 "nbformat_minor": 5
}
