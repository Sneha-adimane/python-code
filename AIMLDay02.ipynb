{
 "cells": [
  {
   "cell_type": "code",
   "execution_count": 5,
   "id": "8cfd5b2f-e703-44b9-a58d-9058b18692ce",
   "metadata": {},
   "outputs": [
    {
     "name": "stdin",
     "output_type": "stream",
     "text": [
      "enter the name: sneha\n",
      "enter your age: 20\n"
     ]
    },
    {
     "name": "stdout",
     "output_type": "stream",
     "text": [
      "sneha\n",
      "your elegible\n"
     ]
    }
   ],
   "source": [
    "name = input(\"enter the name:\")\n",
    "age = int(input(\"enter your age:\"))\n",
    "if age>=18:\n",
    "        print(name)\n",
    "        print(\"your elegible\")\n",
    "else:\n",
    "        print(name)\n",
    "        print(\"your not elegible\")\n",
    "        "
   ]
  },
  {
   "cell_type": "code",
   "execution_count": 7,
   "id": "f8341a18-fe7e-407c-be0d-b49633b3a113",
   "metadata": {},
   "outputs": [
    {
     "name": "stdin",
     "output_type": "stream",
     "text": [
      "enter two numbers:  4 7 \n"
     ]
    },
    {
     "name": "stdout",
     "output_type": "stream",
     "text": [
      "b is big\n"
     ]
    }
   ],
   "source": [
    "a,b = input(\"enter two numbers: \").split()\n",
    "if a>b:\n",
    "    print(\"a is big\")\n",
    "else:\n",
    "    print(\"b is big\")"
   ]
  },
  {
   "cell_type": "code",
   "execution_count": 16,
   "id": "28dcd1fa-5244-4916-935c-81c18ef31a7e",
   "metadata": {},
   "outputs": [
    {
     "name": "stdin",
     "output_type": "stream",
     "text": [
      " 2\n",
      " 5\n",
      " 8\n"
     ]
    },
    {
     "name": "stdout",
     "output_type": "stream",
     "text": [
      "c is largest\n"
     ]
    }
   ],
   "source": [
    "a = int(input())\n",
    "b = int(input())\n",
    "c = int(input())\n",
    "\n",
    "if a>b:\n",
    "    if a>c:\n",
    "        print (\"a is largest\")\n",
    "    else:\n",
    "        print(\"c is largest\")\n",
    "else:\n",
    "    if b>c:\n",
    "        print(\"b is largest\")\n",
    "    else:\n",
    "        print(\"c is largest\")\n"
   ]
  },
  {
   "cell_type": "code",
   "execution_count": 30,
   "id": "74fbbd92-01eb-418a-9a63-ff0a83f5ba7d",
   "metadata": {},
   "outputs": [
    {
     "name": "stdin",
     "output_type": "stream",
     "text": [
      "enter the marks:  101\n"
     ]
    },
    {
     "name": "stdout",
     "output_type": "stream",
     "text": [
      "invalid marks\n"
     ]
    }
   ],
   "source": [
    "marks = int(input(\"enter the marks: \"))\n",
    "\n",
    "if marks>=90 and marks<100:\n",
    "    if marks>100:\n",
    "        print(\"invalid marks\")\n",
    "    else:\n",
    "        print(\"grade = A+\")\n",
    "else:\n",
    "    if marks>=80 and marks<90:\n",
    "         print(\"grade = A\")\n",
    "    else:\n",
    "        if  marks>=70 and marks<80:\n",
    "             print(\"grade = B+\")\n",
    "        else:\n",
    "            if marks>=60 and marks<70:\n",
    "                print(\"grade = B\")\n",
    "            else:\n",
    "                \n",
    "                if marks>=50 and marks<60:\n",
    "                    print(\"grade = c\")\n",
    "                else:\n",
    "                    if marks>=40 and marks<50:\n",
    "                        print(\"grade = D\")\n",
    "                    else:\n",
    "                          if marks>=30 and marks<40:\n",
    "                              print(\"grade = E\")\n",
    "                          else:\n",
    "                                if marks>=0 and marks<30:\n",
    "                                    print(\"grade = F\")\n",
    "                                else:\n",
    "                                    print(\"invalid marks\")\n",
    "                    \n",
    "            \n",
    "            \n",
    "    \n"
   ]
  },
  {
   "cell_type": "code",
   "execution_count": 46,
   "id": "a8b0de43-60ce-44c6-b240-f0b2f6eacd5d",
   "metadata": {},
   "outputs": [
    {
     "name": "stdin",
     "output_type": "stream",
     "text": [
      "enter the marks:  30\n"
     ]
    },
    {
     "name": "stdout",
     "output_type": "stream",
     "text": [
      "grade = E\n"
     ]
    }
   ],
   "source": [
    "marks = int(input(\"enter the marks: \"))\n",
    "\n",
    "if marks>=90 and marks<100:\n",
    "    if marks>100:\n",
    "        print(\"invalid marks\")\n",
    "    else:\n",
    "        print(\"grade = A+\")\n",
    "else:\n",
    "    if marks>=80 and marks<90:\n",
    "         print(\"grade = A\")\n",
    "    elif marks>=70 and marks<80:\n",
    "        print(\"grade = B+\")\n",
    "    elif marks>=60 and marks<70:\n",
    "        print(\"grade = B\")\n",
    "    elif marks>=50 and marks<60:\n",
    "        print(\"grade = c\")\n",
    "    elif marks>=40 and marks<50:\n",
    "        print(\"grade = D\")\n",
    "    elif marks>=30 and marks<40:\n",
    "        print(\"grade = E\")\n",
    "    elif marks>=0 and marks<30:\n",
    "        print(\"grade = F\")\n",
    "    else:\n",
    "        print(\"invalid marks\")\n",
    "                    \n",
    "            \n",
    "            \n",
    "    \n"
   ]
  },
  {
   "cell_type": "code",
   "execution_count": 50,
   "id": "6000234e-8972-44ae-bd75-0a0dc6832e81",
   "metadata": {},
   "outputs": [
    {
     "name": "stdin",
     "output_type": "stream",
     "text": [
      " 4\n"
     ]
    },
    {
     "name": "stdout",
     "output_type": "stream",
     "text": [
      "thursday\n"
     ]
    }
   ],
   "source": [
    "day = int(input())\n",
    "\n",
    "match day:\n",
    "    case 1: print(\"monday\")\n",
    "    case 2: print(\"tuesday\")\n",
    "    case 3: print(\"wednesday\")    \n",
    "    case 4: print(\"thursday\")    \n",
    "    case 5: print(\"friday\")\n",
    "    case 6: print(\"saturday\")\n",
    "    case 7: print(\"sunday\")\n",
    "    case _: print(\"invalid\")    "
   ]
  },
  {
   "cell_type": "code",
   "execution_count": 53,
   "id": "9bf4c415-b586-4d12-9609-704fe60d1fcd",
   "metadata": {},
   "outputs": [
    {
     "name": "stdin",
     "output_type": "stream",
     "text": [
      " 9\n"
     ]
    },
    {
     "name": "stdout",
     "output_type": "stream",
     "text": [
      "invalid\n"
     ]
    }
   ],
   "source": [
    "#multiple defaults statements\n",
    "\n",
    "day = int(input())\n",
    "\n",
    "match day:\n",
    "    case 1: print(\"monday\")\n",
    "    case 2: print(\"tuesday\")\n",
    "    case 3: print(\"wednesday\")    \n",
    "    case 4: print(\"thursday\")    \n",
    "    case 5: print(\"friday\")\n",
    "    case 6: print(\"saturday\")\n",
    "    case 7: print(\"sunday\")\n",
    "    case _ if day == 10:\n",
    "            print(\"ten\")\n",
    "    case _ if day>=13 and day<=19:\n",
    "             print(\"teans\")\n",
    "    case _: print(\"invalid\")    \n"
   ]
  },
  {
   "cell_type": "code",
   "execution_count": 56,
   "id": "8e408f46-19cf-47f2-927a-eddc45364c01",
   "metadata": {},
   "outputs": [
    {
     "name": "stdout",
     "output_type": "stream",
     "text": [
      "0\n",
      "1\n",
      "2\n",
      "3\n",
      "4\n",
      "5\n",
      "6\n",
      "7\n",
      "8\n",
      "9\n",
      "\n",
      "\n",
      "0\n",
      "1\n",
      "2\n",
      "3\n",
      "4\n",
      "5\n",
      "6\n",
      "7\n",
      "8\n",
      "9\n"
     ]
    }
   ],
   "source": [
    "x=0\n",
    "while x<10:\n",
    "    print(x)\n",
    "    x=x+1\n",
    "\n",
    "print(\"\\n\")\n",
    "for y in range(0,10):\n",
    "    print(y)"
   ]
  },
  {
   "cell_type": "code",
   "execution_count": 69,
   "id": "ba005709-1985-4367-9068-70e4934a95df",
   "metadata": {},
   "outputs": [
    {
     "name": "stdout",
     "output_type": "stream",
     "text": [
      "*\n",
      "**\n",
      "***\n",
      "****\n",
      "*****\n",
      "******\n"
     ]
    }
   ],
   "source": [
    "for i in range (0,6):\n",
    "    for j in range(0,i+1): \n",
    "       print(\"*\",end=\"\")\n",
    "    print()\n"
   ]
  },
  {
   "cell_type": "code",
   "execution_count": 20,
   "id": "5d49b8bd-ffad-4d70-bf00-3f49df1ae5a5",
   "metadata": {},
   "outputs": [
    {
     "name": "stdin",
     "output_type": "stream",
     "text": [
      "enter the number:  5\n"
     ]
    },
    {
     "name": "stdout",
     "output_type": "stream",
     "text": [
      "0\n",
      "1\n",
      "1\n",
      "3\n"
     ]
    }
   ],
   "source": [
    "i=int(input(\"enter the number: \"))\n",
    "#a=0\n",
    "#b=1\n",
    "#print(a,b,end=\"\")\n",
    "for i in range(0,i-1):\n",
    "    if i==0 or i==1:\n",
    "        print(i,end=\" \")\n",
    "    #incomplete code for fibbonacci\n",
    "    \n",
    "    "
   ]
  },
  {
   "cell_type": "code",
   "execution_count": 22,
   "id": "74e5d84a-23fc-4e8a-acf3-d5bce4a17147",
   "metadata": {},
   "outputs": [
    {
     "name": "stdin",
     "output_type": "stream",
     "text": [
      "enter the number:  10\n"
     ]
    },
    {
     "name": "stdout",
     "output_type": "stream",
     "text": [
      "0 1 1 2 3 5 8 13 21 34 "
     ]
    }
   ],
   "source": [
    "i=int(input(\"enter the number: \"))\n",
    "a=0\n",
    "b=1\n",
    "print(a,b,end=\" \")\n",
    "for i in range(0,i-2):\n",
    "    c=a+b\n",
    "    print(c,end=\" \")\n",
    "    a=b\n",
    "    b=c"
   ]
  },
  {
   "cell_type": "code",
   "execution_count": 24,
   "id": "37f40175-4855-4bfe-852d-9747711b4ed9",
   "metadata": {},
   "outputs": [
    {
     "name": "stdin",
     "output_type": "stream",
     "text": [
      " 3\n",
      " 4\n"
     ]
    },
    {
     "name": "stdout",
     "output_type": "stream",
     "text": [
      "7\n"
     ]
    }
   ],
   "source": [
    "#functions\n",
    "\n",
    "def abcd(a,b):\n",
    "    c=a+b\n",
    "    return c\n",
    "\n",
    "A=int(input())\n",
    "B=int(input())\n",
    "\n",
    "print(abcd(A,B))"
   ]
  },
  {
   "cell_type": "code",
   "execution_count": 26,
   "id": "481383fe-cf02-468e-9dd0-84abb18f4314",
   "metadata": {},
   "outputs": [
    {
     "name": "stdin",
     "output_type": "stream",
     "text": [
      " 4\n",
      " 5\n"
     ]
    },
    {
     "name": "stdout",
     "output_type": "stream",
     "text": [
      "9\n",
      "11\n"
     ]
    }
   ],
   "source": [
    "def abcd(a,b=7):\n",
    "    c=a+b\n",
    "    print(c)\n",
    "    return\n",
    "\n",
    "A=int(input())\n",
    "B=int(input())\n",
    "\n",
    "abcd(A,B)\n",
    "abcd(A)"
   ]
  },
  {
   "cell_type": "code",
   "execution_count": null,
   "id": "81e4ad14-6ec6-467d-9d51-b925a742ebbb",
   "metadata": {},
   "outputs": [],
   "source": []
  }
 ],
 "metadata": {
  "kernelspec": {
   "display_name": "Python 3 (ipykernel)",
   "language": "python",
   "name": "python3"
  },
  "language_info": {
   "codemirror_mode": {
    "name": "ipython",
    "version": 3
   },
   "file_extension": ".py",
   "mimetype": "text/x-python",
   "name": "python",
   "nbconvert_exporter": "python",
   "pygments_lexer": "ipython3",
   "version": "3.12.3"
  }
 },
 "nbformat": 4,
 "nbformat_minor": 5
}
