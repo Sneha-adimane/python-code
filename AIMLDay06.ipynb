{
 "cells": [
  {
   "cell_type": "code",
   "execution_count": 20,
   "id": "9f83b774-c15c-4881-b599-838dd696d739",
   "metadata": {},
   "outputs": [
    {
     "name": "stdout",
     "output_type": "stream",
     "text": [
      "the features of car are: KA3456 100000 black 1800cc shift 8 120km/hr\n",
      "the features of car are: KA1871 1500000 red 2300cc 12 6.6ton\n"
     ]
    }
   ],
   "source": [
    "class vehicle:\n",
    "    def __init__(self,r,p,c,e):\n",
    "        self.regplate=r\n",
    "        self.price=p\n",
    "        self.colour=c\n",
    "        self.engine=e\n",
    "\n",
    "class car(vehicle):\n",
    "    def __init__(self,t,n,ms,r,p,c,e):\n",
    "        self.type=t\n",
    "        self.passenger=n\n",
    "        self.maxspeed=ms\n",
    "        super().__init__(r,p,c,e)\n",
    "\n",
    "class truck(vehicle):\n",
    "    def __init__(self,a,l,r,p,c,e):\n",
    "        self.axle=a\n",
    "        self.load=l\n",
    "        super().__init__(r,p,c,e)\n",
    "\n",
    "if __name__==\"__main__\":\n",
    "   # b=vehicle()\n",
    "    b1=car(\"shift\",8,\"120km/hr\",\"KA3456\",100000,\"black\",\"1800cc\")\n",
    "    b2=truck(12,\"6.6ton\",\"KA1871\",1500000,\"red\",\"2300cc\")\n",
    "    print(\"the features of car are:\",b1.regplate,b1.price,b1.colour,b1.engine,b1.type,b1.passenger,b1.maxspeed)\n",
    "    print(\"the features of car are:\",b2.regplate,b2.price,b2.colour,b2.engine,b2.axle,b2.load)"
   ]
  },
  {
   "cell_type": "code",
   "execution_count": 27,
   "id": "defeecb6-7574-438c-8dc4-ce051b10139c",
   "metadata": {},
   "outputs": [
    {
     "name": "stdout",
     "output_type": "stream",
     "text": [
      "staff details: 234 gaudg 100000 data analysis company\n",
      "developer details: 123 tyrgjhf 3400000 python AItool 5years\n",
      "manager details: 457 gukjyui 8090000 cyber crime management yiuh\n"
     ]
    }
   ],
   "source": [
    "class employee:\n",
    "    def __init__(self,eid,ename,esalary):\n",
    "        self.i=eid\n",
    "        self.n=ename\n",
    "        self.s=esalary\n",
    "\n",
    "class staff(employee):\n",
    "    def __init__(self,wtype,warea,eid,ename,esalary):\n",
    "        self.wt=wtype\n",
    "        self.wa=warea\n",
    "        super().__init__(eid,ename,esalary)\n",
    "\n",
    "class developer(employee):\n",
    "    def __init__(self,module,tech,experience,eid,ename,esalary):\n",
    "        self.m=module\n",
    "        self.t=tech\n",
    "        self.e=experience\n",
    "        super().__init__(eid,ename,esalary)\n",
    "\n",
    "class manager(employee):\n",
    "    def __init__(self,project,clientname,eid,ename,esalary):\n",
    "        self.p=project\n",
    "        self.c=clientname\n",
    "        super().__init__(eid,ename,esalary)\n",
    "\n",
    "if __name__==\"__main__\":\n",
    "    e1=staff(\"data analysis\",\"company\",234,\"gaudg\",100000)\n",
    "    e2=developer(\"python\",\"AItool\",\"5years\",123,\"tyrgjhf\",3400000)\n",
    "    e3=manager(\"cyber crime management\",\"yiuh\",457,\"gukjyui\",8090000)\n",
    "print(\"staff details:\",e1.i,e1.n,e1.s,e1.wt,e1.wa)\n",
    "print(\"developer details:\",e2.i,e2.n,e2.s,e2.m,e2.t,e2.e)\n",
    "print(\"manager details:\",e3.i,e3.n,e3.s,e3.p,e3.c)\n"
   ]
  },
  {
   "cell_type": "code",
   "execution_count": 76,
   "id": "67a48442-c9d2-46a1-8534-9f086a2c60f3",
   "metadata": {},
   "outputs": [
    {
     "name": "stdin",
     "output_type": "stream",
     "text": [
      "enter the number: 6\n"
     ]
    },
    {
     "name": "stdout",
     "output_type": "stream",
     "text": [
      "******\n",
      "*     \n",
      "*     \n",
      "*     \n",
      "*     \n",
      "*     \n"
     ]
    }
   ],
   "source": [
    "a=int(input(\"enter the number:\"))\n",
    "for i in range(0,a):\n",
    "    for j in range(0,a):\n",
    "        if i==0 or i==a or j==0 or j==a: \n",
    "            print(\"*\",end=\"\")\n",
    "        else:\n",
    "            print(\" \",end=\"\")\n",
    "    print()"
   ]
  },
  {
   "cell_type": "code",
   "execution_count": 44,
   "id": "3cc758ba-7681-4298-88ea-95134cc9fe86",
   "metadata": {},
   "outputs": [
    {
     "name": "stdin",
     "output_type": "stream",
     "text": [
      "enter the number: 6\n"
     ]
    },
    {
     "name": "stdout",
     "output_type": "stream",
     "text": [
      "******\n",
      "******\n",
      "******\n",
      "******\n",
      "******\n",
      "******\n"
     ]
    }
   ],
   "source": [
    "a=int(input(\"enter the number:\"))\n",
    "for i in range(0,a):\n",
    "    for j in range(0,a):\n",
    "        print(\"*\",end=\"\")\n",
    "    print()"
   ]
  },
  {
   "cell_type": "code",
   "execution_count": 51,
   "id": "1e7e0f0c-a335-472d-a2a0-f1c9e12609e0",
   "metadata": {},
   "outputs": [
    {
     "name": "stdin",
     "output_type": "stream",
     "text": [
      "enter the number: 5\n"
     ]
    },
    {
     "name": "stdout",
     "output_type": "stream",
     "text": [
      "*\n",
      "**\n",
      "***\n",
      "****\n",
      "*****\n"
     ]
    }
   ],
   "source": [
    "a=int(input(\"enter the number:\"))\n",
    "for i in range(0,a):\n",
    "    for j in range(0,i+1):\n",
    "        print(\"*\",end=\"\")\n",
    "    print()"
   ]
  },
  {
   "cell_type": "code",
   "execution_count": 52,
   "id": "b3d109ba-da0e-44ec-8ce5-11db60e49578",
   "metadata": {
    "scrolled": true
   },
   "outputs": [
    {
     "name": "stdin",
     "output_type": "stream",
     "text": [
      "enter the number: 5\n"
     ]
    },
    {
     "name": "stdout",
     "output_type": "stream",
     "text": [
      "*****\n",
      "****\n",
      "***\n",
      "**\n",
      "*\n"
     ]
    }
   ],
   "source": [
    "a=int(input(\"enter the number:\"))\n",
    "for i in range(a,0,-1):\n",
    "    for j in range(0,i):\n",
    "        print(\"*\",end=\"\")\n",
    "    print()"
   ]
  },
  {
   "cell_type": "code",
   "execution_count": null,
   "id": "1c7fe6e3-6e4e-4f77-9587-0a95ad035006",
   "metadata": {},
   "outputs": [],
   "source": []
  }
 ],
 "metadata": {
  "kernelspec": {
   "display_name": "Python 3 (ipykernel)",
   "language": "python",
   "name": "python3"
  },
  "language_info": {
   "codemirror_mode": {
    "name": "ipython",
    "version": 3
   },
   "file_extension": ".py",
   "mimetype": "text/x-python",
   "name": "python",
   "nbconvert_exporter": "python",
   "pygments_lexer": "ipython3",
   "version": "3.12.3"
  }
 },
 "nbformat": 4,
 "nbformat_minor": 5
}
