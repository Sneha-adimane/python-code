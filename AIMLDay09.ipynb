{
 "cells": [
  {
   "cell_type": "code",
   "execution_count": 15,
   "id": "f74606e6-fc0b-4a58-bd1a-b0b23af65d30",
   "metadata": {},
   "outputs": [
    {
     "name": "stdout",
     "output_type": "stream",
     "text": [
      "['a', 'b', 'c', 'd']\n",
      "d\n",
      "c\n",
      "b\n",
      "a\n"
     ]
    }
   ],
   "source": [
    "def add(x):\n",
    "    s.append(x)\n",
    "s=[]\n",
    "add('a')\n",
    "add('b')\n",
    "add('c')\n",
    "add('d')\n",
    "print(s)\n",
    "for i in range(0,len(s)):\n",
    "    print(n[-1*(i+1)])\n"
   ]
  },
  {
   "cell_type": "code",
   "execution_count": 22,
   "id": "7448c158-191b-4ac1-8ab0-0a9e0320a9f6",
   "metadata": {},
   "outputs": [
    {
     "name": "stdin",
     "output_type": "stream",
     "text": [
      " this is car\n"
     ]
    },
    {
     "name": "stdout",
     "output_type": "stream",
     "text": [
      "rac si siht"
     ]
    }
   ],
   "source": [
    "#reverse the string letter by letter using stack\n",
    "a=input()\n",
    "s=[]\n",
    "for x in a:\n",
    "    s.append(x)\n",
    "\n",
    "while len(s)>0:\n",
    "    print(s.pop(),end=\"\")"
   ]
  },
  {
   "cell_type": "code",
   "execution_count": 24,
   "id": "1a091058-4be6-4639-be27-8ec5b52e16c9",
   "metadata": {},
   "outputs": [
    {
     "name": "stdin",
     "output_type": "stream",
     "text": [
      " abcd\n"
     ]
    },
    {
     "name": "stdout",
     "output_type": "stream",
     "text": [
      "4\n",
      "d\n",
      "3\n",
      "c\n",
      "2\n",
      "b\n",
      "1\n",
      "a\n"
     ]
    }
   ],
   "source": [
    "a=input()\n",
    "s=[]\n",
    "for x in a:\n",
    "    s.append(x)\n",
    "\n",
    "while len(s)>0:\n",
    "    print(len(s))\n",
    "    print(s.pop())\n"
   ]
  },
  {
   "cell_type": "code",
   "execution_count": 27,
   "id": "e062460f-ecaa-43c9-a3ef-35828b0684eb",
   "metadata": {},
   "outputs": [
    {
     "name": "stdin",
     "output_type": "stream",
     "text": [
      " this is a car\n"
     ]
    },
    {
     "name": "stdout",
     "output_type": "stream",
     "text": [
      "car a is this "
     ]
    }
   ],
   "source": [
    "#reverse of the string word by word using stack\n",
    "a=input()\n",
    "s=[]\n",
    "for x in a.split():\n",
    "    s.append(x)\n",
    "\n",
    "while len(s)>0:\n",
    "    print(s.pop(),end=\" \")\n"
   ]
  },
  {
   "cell_type": "code",
   "execution_count": 77,
   "id": "14e702d3-1266-4ca2-a595-68a6bae26ff8",
   "metadata": {},
   "outputs": [
    {
     "name": "stdin",
     "output_type": "stream",
     "text": [
      " (a+b)*c\n"
     ]
    },
    {
     "name": "stdout",
     "output_type": "stream",
     "text": [
      " ab+c*\n"
     ]
    }
   ],
   "source": [
    "#postfix to infix\n",
    "def priority(x):\n",
    "    if x=='^':\n",
    "        return 3\n",
    "    elif x=='*' or x=='/': \n",
    "        return 2\n",
    "    elif x=='+' or x=='-':\n",
    "        return 1\n",
    "    else:\n",
    "        return 0\n",
    "def assoc(i):\n",
    "    if i=='^':\n",
    "        return 'R'\n",
    "    else:\n",
    "        return 'L'\n",
    "s=[]\n",
    "result=\" \"\n",
    "a=input()\n",
    "for i in a:\n",
    "    if i=='(':\n",
    "        s.append(i)\n",
    "    elif i==')':\n",
    "        while s[-1]!='(':\n",
    "            result+=s.pop()\n",
    "        s.pop()    \n",
    "    elif i.isalnum():\n",
    "        result+=i\n",
    "    else: \n",
    "        while s and  priority(i)<=priority(s[-1]) and assoc(i)=='L':\n",
    "                result+=s.pop()\n",
    "        s.append(i)\n",
    "while s:\n",
    "    result+=s.pop()\n",
    "\n",
    "    \n",
    "print(result)\n",
    "\n",
    "        \n",
    "        "
   ]
  },
  {
   "cell_type": "markdown",
   "id": "e79c308c-e794-4776-b332-ef0705a42a60",
   "metadata": {},
   "source": [
    "in a arcade game,there is aking who got spelled by witch that whenever he eat he have to take care of what is sequence of his \n",
    "food intake\n",
    "if he eats similar food one after other it will cancel out the its effect and total energy was decreased.\n",
    "your task is to determine the total energy of the king after his meal\n",
    "\n",
    "example:\n",
    "[\"apple\",\"dal\",\"chapati\",\"rice\",\"apple\",\"apple\",\"dal\",\"rice\",\"dal\",\"chapati\",\"chapati\"]\n",
    "\n",
    "consider that energy released by each item will be same which is 1 unit\n",
    "\n",
    "so the total energy intake is 6 units as per above example.\n",
    "[\"apple\",\"dal\",\"chapati\",\"dal\",\"rice\",\"dal\"]\n",
    "\n",
    "write a code to find the energy stored by the king after have all the food."
   ]
  },
  {
   "cell_type": "code",
   "execution_count": 98,
   "id": "f8bb8fe5-8326-4766-8c59-e6dff2e920f7",
   "metadata": {},
   "outputs": [
    {
     "name": "stdin",
     "output_type": "stream",
     "text": [
      " apple chapathi dal rice rice apple apple dal rice dal chapathi chapathi\n"
     ]
    },
    {
     "name": "stdout",
     "output_type": "stream",
     "text": [
      "4\n",
      "['apple', 'chapathi', 'rice', 'dal']\n"
     ]
    }
   ],
   "source": [
    "a=input()\n",
    "s=[]\n",
    "for x in a.split():\n",
    "    if len(s)==0:\n",
    "        s.append(x)\n",
    "    elif x==s[-1]:\n",
    "        s.pop() \n",
    "    else:\n",
    "        s.append(x)\n",
    "print(len(s))\n",
    "print(s)\n",
    "\n",
    " "
   ]
  },
  {
   "cell_type": "code",
   "execution_count": 22,
   "id": "0a832279-f6dd-41bc-a750-29503bc44150",
   "metadata": {},
   "outputs": [
    {
     "name": "stdin",
     "output_type": "stream",
     "text": [
      " this (is a {car)}\n"
     ]
    },
    {
     "name": "stdout",
     "output_type": "stream",
     "text": [
      "invalid\n"
     ]
    }
   ],
   "source": [
    "a=input()\n",
    "s=[]\n",
    "for i in a:\n",
    "    if i=='(' or i=='[' or i=='{':\n",
    "        s.append(i)\n",
    "    elif i==')' and s[-1]=='(' or i==']' and s[-1]=='[' or i=='}' and s[-1]=='{':\n",
    "        s.pop()    \n",
    "    else:\n",
    "        continue\n",
    "                   \n",
    "            \n",
    "if not s:\n",
    "    print(\"valid\")\n",
    "else:\n",
    "    print(\"invalid\")\n",
    "    \n",
    "\n",
    "        "
   ]
  },
  {
   "cell_type": "markdown",
   "id": "57179475-187c-4fc7-91ec-f81f5a16df59",
   "metadata": {},
   "source": [
    "recurssion--memory management is done using stack and slow process"
   ]
  },
  {
   "cell_type": "code",
   "execution_count": 2,
   "id": "21e682f4-4606-42a1-a5d2-58c8f6c778c7",
   "metadata": {},
   "outputs": [
    {
     "name": "stdout",
     "output_type": "stream",
     "text": [
      "5\n",
      "4\n",
      "3\n",
      "2\n",
      "1\n"
     ]
    },
    {
     "data": {
      "text/plain": [
       "0"
      ]
     },
     "execution_count": 2,
     "metadata": {},
     "output_type": "execute_result"
    }
   ],
   "source": [
    "#recurssion using function\n",
    "def fun(x):\n",
    "    if x==0:   #base class\n",
    "        return x\n",
    "    print(x)#body of recurssion\n",
    "    return fun(x-1)\n",
    "\n",
    "fun(5)"
   ]
  }
 ],
 "metadata": {
  "kernelspec": {
   "display_name": "Python 3 (ipykernel)",
   "language": "python",
   "name": "python3"
  },
  "language_info": {
   "codemirror_mode": {
    "name": "ipython",
    "version": 3
   },
   "file_extension": ".py",
   "mimetype": "text/x-python",
   "name": "python",
   "nbconvert_exporter": "python",
   "pygments_lexer": "ipython3",
   "version": "3.12.3"
  }
 },
 "nbformat": 4,
 "nbformat_minor": 5
}
