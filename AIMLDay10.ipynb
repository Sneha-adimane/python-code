{
 "cells": [
  {
   "cell_type": "code",
   "execution_count": 2,
   "id": "c00d9b1b-2c54-4da1-a1fc-42208def74c4",
   "metadata": {},
   "outputs": [
    {
     "name": "stdout",
     "output_type": "stream",
     "text": [
      "2\n",
      "4\n",
      "6\n",
      "8\n",
      "10\n",
      "12\n",
      "14\n",
      "16\n",
      "18\n",
      "20\n"
     ]
    }
   ],
   "source": [
    "#2 table using for loop\n",
    "for i in range(1,11):\n",
    "    a=2*i\n",
    "    print(a)"
   ]
  },
  {
   "cell_type": "code",
   "execution_count": 5,
   "id": "341f47fa-67d4-47f5-95e2-de1d886dc02d",
   "metadata": {},
   "outputs": [
    {
     "name": "stdout",
     "output_type": "stream",
     "text": [
      "2\n",
      "4\n",
      "6\n",
      "8\n",
      "10\n",
      "12\n",
      "14\n",
      "16\n",
      "18\n",
      "20\n"
     ]
    }
   ],
   "source": [
    "# 2 table using recurrsion\n",
    "def multi(x):\n",
    "    if x<=10:\n",
    "        a=2*x\n",
    "        print(a)\n",
    "    else:\n",
    "        return \n",
    "    return multi(x+1)\n",
    "multi(1)\n",
    "\n"
   ]
  },
  {
   "cell_type": "code",
   "execution_count": 10,
   "id": "5bd13e34-6103-423b-953e-8b6470c24442",
   "metadata": {},
   "outputs": [
    {
     "name": "stdin",
     "output_type": "stream",
     "text": [
      " 5\n"
     ]
    },
    {
     "name": "stdout",
     "output_type": "stream",
     "text": [
      "120\n"
     ]
    }
   ],
   "source": [
    "#factorial using for loop\n",
    "n=int(input())\n",
    "a=1\n",
    "for i in range(1,n+1):\n",
    "    a=a*i\n",
    "print(a)\n",
    "    \n",
    "    "
   ]
  },
  {
   "cell_type": "code",
   "execution_count": 33,
   "id": "9f679430-7698-42e3-af57-a3c909c7fe8c",
   "metadata": {},
   "outputs": [
    {
     "name": "stdin",
     "output_type": "stream",
     "text": [
      " 5\n"
     ]
    },
    {
     "data": {
      "text/plain": [
       "120"
      ]
     },
     "execution_count": 33,
     "metadata": {},
     "output_type": "execute_result"
    }
   ],
   "source": [
    "#factorial using recurrsion\n",
    "def fact(i):\n",
    "    if i==1:\n",
    "        return 1\n",
    "    else:\n",
    "        return i*fact(i-1)\n",
    "    print(i)\n",
    "n=int(input())   \n",
    "fact(n)\n",
    "   "
   ]
  },
  {
   "cell_type": "code",
   "execution_count": 31,
   "id": "4184f03e-0959-4610-8a2d-b30ca2dedcea",
   "metadata": {},
   "outputs": [
    {
     "name": "stdin",
     "output_type": "stream",
     "text": [
      " 5\n"
     ]
    },
    {
     "name": "stdout",
     "output_type": "stream",
     "text": [
      "120\n"
     ]
    }
   ],
   "source": [
    "#factorial using for loop\n",
    "fact=1\n",
    "n=int(input())\n",
    "for i in range (n,1,-1):\n",
    "    fact*=i\n",
    "print(fact)"
   ]
  },
  {
   "cell_type": "code",
   "execution_count": 44,
   "id": "f1e7b37b-1d99-4ae8-a061-46b3d474994d",
   "metadata": {},
   "outputs": [
    {
     "name": "stdin",
     "output_type": "stream",
     "text": [
      " 5\n"
     ]
    },
    {
     "name": "stdout",
     "output_type": "stream",
     "text": [
      "0 1 1 2 3 "
     ]
    }
   ],
   "source": [
    "#fibonaci using for loop\n",
    "i=int(input())\n",
    "a=0\n",
    "b=1\n",
    "print(a,b,end=\" \")\n",
    "for i in range(0,i-2):\n",
    "    c=a+b\n",
    "    print(c,end=\" \")\n",
    "    a=b\n",
    "    b=c\n",
    "    \n"
   ]
  },
  {
   "cell_type": "code",
   "execution_count": 58,
   "id": "c088e34b-ce05-4f1f-8a6c-22c95307c247",
   "metadata": {},
   "outputs": [
    {
     "name": "stdin",
     "output_type": "stream",
     "text": [
      " 5\n"
     ]
    },
    {
     "name": "stdout",
     "output_type": "stream",
     "text": [
      "0\n",
      "1\n",
      "1\n",
      "2\n",
      "3\n"
     ]
    }
   ],
   "source": [
    "# fibonaci using recurrsion\n",
    "def fib(i):\n",
    "    if i<=1:\n",
    "        return i\n",
    "    else:\n",
    "      return fib(i-1)+fib(i-2)\n",
    "n=int(input())\n",
    "for x in range(n):\n",
    "    print(fib(x))"
   ]
  },
  {
   "cell_type": "code",
   "execution_count": 65,
   "id": "06ce1a1a-5240-41a5-92ba-18176075ced2",
   "metadata": {},
   "outputs": [
    {
     "name": "stdout",
     "output_type": "stream",
     "text": [
      "[3, 5, 7, 2, 4, 8, 1, 9, 6]\n",
      "6\n",
      "[3, 5, 2, 4, 1, 6, 7, 9, 8]\n",
      "next\n",
      "[3, 5, 2, 4, 1, 6, 7, 9, 8]\n",
      "1\n",
      "[1, 5, 2, 4, 3, 6, 7, 9, 8]\n",
      "next\n",
      "[1, 5, 2, 4, 3, 6, 7, 9, 8]\n",
      "3\n",
      "[1, 2, 3, 4, 5, 6, 7, 9, 8]\n",
      "next\n",
      "[1, 2, 3, 4, 5, 6, 7, 9, 8]\n",
      "5\n",
      "[1, 2, 3, 4, 5, 6, 7, 9, 8]\n",
      "next\n",
      "[1, 2, 3, 4, 5, 6, 7, 9, 8]\n",
      "8\n",
      "[1, 2, 3, 4, 5, 6, 7, 8, 9]\n",
      "next\n",
      "[1, 2, 3, 4, 5, 6, 7, 8, 9]\n"
     ]
    }
   ],
   "source": [
    "#quick sort\n",
    "def findpi(arr,low,high):\n",
    "    pe=arr[high]\n",
    "    j=low-1\n",
    "    for i in range(low,high):\n",
    "        if pe>arr[i]:\n",
    "            j=j+1\n",
    "            arr[i],arr[j]=arr[j],arr[i]\n",
    "    arr[high],arr[j+1]=arr[j+1],arr[high]\n",
    "    return j+1\n",
    "def quicksort(arr,low,high):\n",
    "    if low<high:\n",
    "        print(arr)\n",
    "        pi=findpi(arr,low,high)\n",
    "        print(arr[pi])\n",
    "        print(arr)\n",
    "        print(\"next\")\n",
    "        quicksort(arr,low,pi-1)\n",
    "        quicksort(arr,pi+1,high)\n",
    "arr=[3,5,7,2,4,8,1,9,6]\n",
    "quicksort(arr,0,len(arr)-1)\n",
    "print(arr)\n"
   ]
  },
  {
   "cell_type": "code",
   "execution_count": 3,
   "id": "033d2350-c3dc-4177-862c-386c6d3028ac",
   "metadata": {},
   "outputs": [
    {
     "name": "stdout",
     "output_type": "stream",
     "text": [
      "A= <__main__.node object at 0x000002187B6AC920>\n",
      "B= <__main__.node object at 0x000002187CB3FE30>\n",
      "C= <__main__.node object at 0x000002187CC7EDB0>\n",
      "D= <__main__.node object at 0x000002187CC7FE00>\n",
      "<__main__.node object at 0x000002187B6AC920> -->\n",
      "<__main__.node object at 0x000002187CB3FE30> -->\n",
      "<__main__.node object at 0x000002187CC7EDB0> -->\n",
      "<__main__.node object at 0x000002187CC7FE00> -->\n"
     ]
    }
   ],
   "source": [
    "#linked list\n",
    "class node:\n",
    "    def __init__(self,value):\n",
    "       self.data=value\n",
    "       self.next=None\n",
    "\n",
    "A=node(\"apple\")\n",
    "B=node(\"book\")\n",
    "C=node(\"cat\")\n",
    "D=node(\"dog\")\n",
    "\n",
    "head=A\n",
    "head.next=B\n",
    "head.next.next=C\n",
    "head.next.next.next=D\n",
    "\n",
    "print(\"A=\",A)\n",
    "print(\"B=\",B)\n",
    "print(\"C=\",C)\n",
    "print(\"D=\",D)\n",
    "\n",
    "print(head,\"-->\")\n",
    "print(head.next,\"-->\")\n",
    "print(head.next.next,\"-->\")\n",
    "print(head.next.next.next,\"-->\")"
   ]
  },
  {
   "cell_type": "code",
   "execution_count": 4,
   "id": "1e57c132-4cee-4704-974b-2755950db179",
   "metadata": {},
   "outputs": [
    {
     "name": "stdout",
     "output_type": "stream",
     "text": [
      "node 1 <__main__.node object at 0x000002187CB3FAA0> 1\n",
      "node 2 <__main__.node object at 0x000002187CB3F6B0> 2\n",
      "node 3 <__main__.node object at 0x000002187CB3FBF0> 3\n",
      "node 4 <__main__.node object at 0x000002187CC7F0B0> 4\n"
     ]
    }
   ],
   "source": [
    "class node:\n",
    "    def __init__(self,value):\n",
    "       self.data=value\n",
    "       self.next=None\n",
    "        \n",
    "head=node(1)\n",
    "head.next=node(2)\n",
    "head.next.next=node(3)\n",
    "head.next.next.next=node(4)\n",
    "\n",
    "print(\"node 1\",head,head.data)\n",
    "print(\"node 2\",head.next,head.next.data)\n",
    "print(\"node 3\",head.next.next,head.next.next.data)\n",
    "print(\"node 4\",head.next.next.next,head.next.next.next.data)"
   ]
  },
  {
   "cell_type": "code",
   "execution_count": null,
   "id": "21bdf43b-a2b0-4db1-b9d6-5a5ff898cba0",
   "metadata": {},
   "outputs": [],
   "source": []
  }
 ],
 "metadata": {
  "kernelspec": {
   "display_name": "Python 3 (ipykernel)",
   "language": "python",
   "name": "python3"
  },
  "language_info": {
   "codemirror_mode": {
    "name": "ipython",
    "version": 3
   },
   "file_extension": ".py",
   "mimetype": "text/x-python",
   "name": "python",
   "nbconvert_exporter": "python",
   "pygments_lexer": "ipython3",
   "version": "3.12.3"
  }
 },
 "nbformat": 4,
 "nbformat_minor": 5
}
