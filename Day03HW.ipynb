{
 "cells": [
  {
   "cell_type": "code",
   "execution_count": 16,
   "id": "9d95db50-ac0c-49b9-9a21-4f774e173a88",
   "metadata": {},
   "outputs": [
    {
     "name": "stdout",
     "output_type": "stream",
     "text": [
      "non-numeric values\n",
      "non-numeric values\n",
      "The sum of numeric elements is: 10.5\n"
     ]
    }
   ],
   "source": [
    "list = [1, 2, 3.5, \"hello\", 4, None]\n",
    "\n",
    "sum = 0\n",
    "for num in list:\n",
    "  try:\n",
    "     sum += num\n",
    "  except TypeError:\n",
    "     print(\"non-numeric values\")\n",
    "\n",
    "print(f\"The sum of numeric elements is: {sum}\")"
   ]
  },
  {
   "cell_type": "code",
   "execution_count": 12,
   "id": "21c02b78-eea8-47f6-8b4c-0b3c40f2eaca",
   "metadata": {},
   "outputs": [
    {
     "name": "stdout",
     "output_type": "stream",
     "text": [
      "83.33333333333333\n"
     ]
    }
   ],
   "source": [
    "def calculate_average_grade(grades_dict):\n",
    "    try:\n",
    "        total_grade = sum(grades_dict.values())\n",
    "        num_students = len(grades_dict)\n",
    "        average_grade = total_grade / num_students\n",
    "        print(average_grade)\n",
    "    except ZeroDivisionError:\n",
    "        print(\"The dictionary is empty. Cannot calculate average grade.\")\n",
    "        return None\n",
    "\n",
    "\n",
    "student_grades = {'Alice': 85, 'Bob': 90, 'Charlie': 75}\n",
    "average = calculate_average_grade(student_grades)\n"
   ]
  }
 ],
 "metadata": {
  "kernelspec": {
   "display_name": "Python 3 (ipykernel)",
   "language": "python",
   "name": "python3"
  },
  "language_info": {
   "codemirror_mode": {
    "name": "ipython",
    "version": 3
   },
   "file_extension": ".py",
   "mimetype": "text/x-python",
   "name": "python",
   "nbconvert_exporter": "python",
   "pygments_lexer": "ipython3",
   "version": "3.12.3"
  }
 },
 "nbformat": 4,
 "nbformat_minor": 5
}
